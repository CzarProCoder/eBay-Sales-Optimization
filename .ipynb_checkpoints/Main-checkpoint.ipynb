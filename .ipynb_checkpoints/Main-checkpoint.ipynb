{
 "cells": [
  {
   "cell_type": "markdown",
   "metadata": {},
   "source": [
    "<h1 style=\"text-align:center; color: #2E86C1;\">Optimizing eBay Sales with Predictive Analytics</h1>\n",
    "<h3 style=\"text-align:center; color: #D35400;\">Analyzing Trends and Forecasting Future Performance!</h3>\n",
    "\n",
    "<center>\n",
    "  <img src=\"images/eBay-prediction.jpg\" alt=\"eBAY Prediction Model\" width=\"500\"/>\n",
    "</center>"
   ]
  },
  {
   "cell_type": "markdown",
   "metadata": {},
   "source": [
    "**Contributors**\n",
    "- [Julius Kinyua](https://github.com/czarprocoder)\n",
    "- [Abigael Nyabaga](https://github.com/Nyabaga)\n",
    "- [Judy Koech](https://github.com/Judykoech)\n",
    "- [Phillip Oluoch](https://github.com/OCHI-BUOY)"
   ]
  },
  {
   "cell_type": "markdown",
   "metadata": {},
   "source": [
    "# 1. Business Understanding\n",
    "\n",
    "### Overview\n",
    "\n",
    "eBay is an eCommerce platform that operates as an online marketplace where individuals and businesses can buy and sell a wide variety of products, including electronics, fashion, collectibles, home goods, and more.\n",
    "\n",
    "**Stakeholders**\n",
    "The primary stakeholders in this project include:\n",
    "- Executive Leadership (eBay C-Suite): They require accurate sales forecasts to make informed decisions about resource allocation and market positioning.\n",
    "- Inventory Management Team: They need accurate predictions to avoid stockouts or overstocks, which can lead to lost sales or excess inventory costs.\n",
    "- Marketing Team:  They need to understand sales trends to time campaigns effectively and allocate budget to the most promising opportunities.\n",
    "- Finance Department: Accurate sales forecasts are critical for their planning processes, ensuring that revenue projections align with actual business performance.\n",
    "- Investors: They rely on accurate sales predictions to gauge the company's future performance, which influences their investment decisions and perceptions of eBay's market value.\n",
    "\n",
    "### Problem Statement\n",
    "In the highly competitive eCommerce landscape, accurately predicting sales is crucial for optimizing inventory management, marketing strategies, and overall business performance. eBay, as a major online marketplace, experiences significant fluctuations in sales due to various factors including seasonal trends, promotional activities, market demand, and external economic conditions.\n",
    "> **The challenge** fluctuations in sales due to various factors including seasonal trends, promotional activities, market demand, and external economic conditions. This leads to poor decision-making, Inefficient resource allocation, and poor financial planning.\n",
    "\n",
    "### Objectives \n",
    "**Main objective**: To create a model that predicts eBay sales accurately. This will help with better inventory management, marketing, and financial planning by using past sales data and other factors to make informed business decisions.\n",
    "\n",
    "**Specific Objectives**: \n",
    "- Develop a predictive model capable of forecasting eBay sales with a high degree of accuracy on a weekly or monthly basis.\n",
    "- Demonstrate the practical application of the predictive model in optimizing inventory management by reducing stockouts and overstocks. \n",
    "- Identify opportunities for targeted marketing campaigns based on predicted sales trends.\n",
    "\n",
    "### Success Metric\n",
    "\n",
    "Evaluate the performance of the predictive model using appropriate metrics, that is: Mean Absolute Error (MAE), Mean Squared Error (MSE) and the Root Mean Squared Error (RMSE). We will select the model with the lowest MAE,MSE and RMSE.\n",
    "\n",
    "### Conclusion\n",
    "\n",
    "By developing and implementing a robust predictive model, eBay can significantly enhance its ability to forecast sales, optimize inventory management, and make data-driven marketing decisions."
   ]
  },
  {
   "cell_type": "markdown",
   "metadata": {},
   "source": [
    "# 2. Data Understanding\n",
    "\n",
    "**Data Collection**\n",
    "Source: Yahoo Finance via yfinance API.\n",
    "\n",
    "**Data Components**\n",
    "\n",
    "**Historical Stock Prices:** Includes Open, High, Low, Close prices, and Volume of trades.These key features provide a snapshot of a stock's performance on any given trading day:\n",
    "- Open: It is the first price at which a transaction is made in that stock during the day.\n",
    "- High: The highest price at which the stock traded during the day. \n",
    "- Low: The lowest price at which the stock traded during the day. \n",
    "- Close: The final price at which the stock traded when the market closed. \n",
    "- Volume: The total number of shares traded during the day. \n",
    "\n",
    "**Additional Features:** Adjusted Close prices for accounting for corporate actions like stock splits and dividends.\n",
    "The Adjusted Close price adjusts the closing price to reflect the impact of corporate actions like dividends, stock splits, and new stock issuance. This feature is essential for long-term analysis because it provides a more accurate picture of a stock’s value over time.\n",
    "- Dividends: When a company pays out dividends to its shareholders, the stock price typically drops by the dividend amount. The Adjusted Close accounts for this, ensuring that historical price data remains consistent and comparable.\n",
    "- Stock Splits: In a stock split, a company increases the number of its shares without changing the market value of the company. For instance, in a 2-for-1 split, the stock price is halved, but the number of shares doubles. The Adjusted Close adjusts for this, so the price before and after the split can be compared directly."
   ]
  },
  {
   "cell_type": "code",
   "execution_count": 102,
   "metadata": {},
   "outputs": [],
   "source": [
    "#Uncomment the line below only if you have not installed yfinance in your current env\n",
    "\n",
    "# !pip install yfinance \n",
    "#!pip install prophet"
   ]
  },
  {
   "cell_type": "code",
   "execution_count": 103,
   "metadata": {},
   "outputs": [],
   "source": [
    "# Import necessary libraries\n",
    "import pandas as pd\n",
    "import numpy as np\n",
    "import seaborn as sns\n",
    "import matplotlib.pyplot as plt\n",
    "from statsmodels.tsa.seasonal import seasonal_decompose\n",
    "from statsmodels.tsa.stattools import adfuller\n",
    "from statsmodels.tsa.arima.model import ARIMA\n",
    "from sklearn.metrics import mean_squared_error, mean_absolute_error\n",
    "from sklearn.model_selection import train_test_split\n",
    "from math import sqrt\n",
    "import yfinance as yf\n",
    "from prophet import Prophet\n",
    "from statsmodels.graphics.tsaplots import plot_acf, plot_pacf\n",
    "import itertools\n",
    "from statsmodels.tsa.statespace.sarimax import SARIMAX\n",
    "\n",
    "import warnings\n",
    "\n",
    "# Ignore all warnings\n",
    "warnings.filterwarnings(\"ignore\")"
   ]
  },
  {
   "cell_type": "code",
   "execution_count": 104,
   "metadata": {},
   "outputs": [
    {
     "data": {
      "text/html": [
       "<div>\n",
       "<style scoped>\n",
       "    .dataframe tbody tr th:only-of-type {\n",
       "        vertical-align: middle;\n",
       "    }\n",
       "\n",
       "    .dataframe tbody tr th {\n",
       "        vertical-align: top;\n",
       "    }\n",
       "\n",
       "    .dataframe thead th {\n",
       "        text-align: right;\n",
       "    }\n",
       "</style>\n",
       "<table border=\"1\" class=\"dataframe\">\n",
       "  <thead>\n",
       "    <tr style=\"text-align: right;\">\n",
       "      <th></th>\n",
       "      <th>Open</th>\n",
       "      <th>High</th>\n",
       "      <th>Low</th>\n",
       "      <th>Close</th>\n",
       "      <th>Volume</th>\n",
       "      <th>Dividends</th>\n",
       "      <th>Stock Splits</th>\n",
       "    </tr>\n",
       "    <tr>\n",
       "      <th>Date</th>\n",
       "      <th></th>\n",
       "      <th></th>\n",
       "      <th></th>\n",
       "      <th></th>\n",
       "      <th></th>\n",
       "      <th></th>\n",
       "      <th></th>\n",
       "    </tr>\n",
       "  </thead>\n",
       "  <tbody>\n",
       "    <tr>\n",
       "      <th>1998-09-24 00:00:00-04:00</th>\n",
       "      <td>0.855242</td>\n",
       "      <td>0.867232</td>\n",
       "      <td>0.707373</td>\n",
       "      <td>0.757329</td>\n",
       "      <td>518656090</td>\n",
       "      <td>0.0</td>\n",
       "      <td>0.0</td>\n",
       "    </tr>\n",
       "    <tr>\n",
       "      <th>1998-09-25 00:00:00-04:00</th>\n",
       "      <td>0.727356</td>\n",
       "      <td>0.737347</td>\n",
       "      <td>0.657418</td>\n",
       "      <td>0.717364</td>\n",
       "      <td>121255834</td>\n",
       "      <td>0.0</td>\n",
       "      <td>0.0</td>\n",
       "    </tr>\n",
       "    <tr>\n",
       "      <th>1998-09-28 00:00:00-04:00</th>\n",
       "      <td>0.759328</td>\n",
       "      <td>0.813279</td>\n",
       "      <td>0.735349</td>\n",
       "      <td>0.771317</td>\n",
       "      <td>89772883</td>\n",
       "      <td>0.0</td>\n",
       "      <td>0.0</td>\n",
       "    </tr>\n",
       "    <tr>\n",
       "      <th>1998-09-29 00:00:00-04:00</th>\n",
       "      <td>0.789300</td>\n",
       "      <td>0.803288</td>\n",
       "      <td>0.763324</td>\n",
       "      <td>0.781308</td>\n",
       "      <td>39289536</td>\n",
       "      <td>0.0</td>\n",
       "      <td>0.0</td>\n",
       "    </tr>\n",
       "    <tr>\n",
       "      <th>1998-09-30 00:00:00-04:00</th>\n",
       "      <td>0.754331</td>\n",
       "      <td>0.767320</td>\n",
       "      <td>0.691388</td>\n",
       "      <td>0.720361</td>\n",
       "      <td>44113766</td>\n",
       "      <td>0.0</td>\n",
       "      <td>0.0</td>\n",
       "    </tr>\n",
       "    <tr>\n",
       "      <th>...</th>\n",
       "      <td>...</td>\n",
       "      <td>...</td>\n",
       "      <td>...</td>\n",
       "      <td>...</td>\n",
       "      <td>...</td>\n",
       "      <td>...</td>\n",
       "      <td>...</td>\n",
       "    </tr>\n",
       "    <tr>\n",
       "      <th>2024-08-14 00:00:00-04:00</th>\n",
       "      <td>55.889999</td>\n",
       "      <td>56.709999</td>\n",
       "      <td>55.750000</td>\n",
       "      <td>55.759998</td>\n",
       "      <td>2993000</td>\n",
       "      <td>0.0</td>\n",
       "      <td>0.0</td>\n",
       "    </tr>\n",
       "    <tr>\n",
       "      <th>2024-08-15 00:00:00-04:00</th>\n",
       "      <td>56.330002</td>\n",
       "      <td>56.660000</td>\n",
       "      <td>55.610001</td>\n",
       "      <td>55.830002</td>\n",
       "      <td>4940000</td>\n",
       "      <td>0.0</td>\n",
       "      <td>0.0</td>\n",
       "    </tr>\n",
       "    <tr>\n",
       "      <th>2024-08-16 00:00:00-04:00</th>\n",
       "      <td>55.900002</td>\n",
       "      <td>56.000000</td>\n",
       "      <td>54.799999</td>\n",
       "      <td>55.500000</td>\n",
       "      <td>4966900</td>\n",
       "      <td>0.0</td>\n",
       "      <td>0.0</td>\n",
       "    </tr>\n",
       "    <tr>\n",
       "      <th>2024-08-19 00:00:00-04:00</th>\n",
       "      <td>55.430000</td>\n",
       "      <td>56.939999</td>\n",
       "      <td>55.290001</td>\n",
       "      <td>56.680000</td>\n",
       "      <td>3557300</td>\n",
       "      <td>0.0</td>\n",
       "      <td>0.0</td>\n",
       "    </tr>\n",
       "    <tr>\n",
       "      <th>2024-08-20 00:00:00-04:00</th>\n",
       "      <td>56.730000</td>\n",
       "      <td>56.970001</td>\n",
       "      <td>56.369999</td>\n",
       "      <td>56.939999</td>\n",
       "      <td>3137700</td>\n",
       "      <td>0.0</td>\n",
       "      <td>0.0</td>\n",
       "    </tr>\n",
       "  </tbody>\n",
       "</table>\n",
       "<p>6518 rows × 7 columns</p>\n",
       "</div>"
      ],
      "text/plain": [
       "                                Open       High        Low      Close  \\\n",
       "Date                                                                    \n",
       "1998-09-24 00:00:00-04:00   0.855242   0.867232   0.707373   0.757329   \n",
       "1998-09-25 00:00:00-04:00   0.727356   0.737347   0.657418   0.717364   \n",
       "1998-09-28 00:00:00-04:00   0.759328   0.813279   0.735349   0.771317   \n",
       "1998-09-29 00:00:00-04:00   0.789300   0.803288   0.763324   0.781308   \n",
       "1998-09-30 00:00:00-04:00   0.754331   0.767320   0.691388   0.720361   \n",
       "...                              ...        ...        ...        ...   \n",
       "2024-08-14 00:00:00-04:00  55.889999  56.709999  55.750000  55.759998   \n",
       "2024-08-15 00:00:00-04:00  56.330002  56.660000  55.610001  55.830002   \n",
       "2024-08-16 00:00:00-04:00  55.900002  56.000000  54.799999  55.500000   \n",
       "2024-08-19 00:00:00-04:00  55.430000  56.939999  55.290001  56.680000   \n",
       "2024-08-20 00:00:00-04:00  56.730000  56.970001  56.369999  56.939999   \n",
       "\n",
       "                              Volume  Dividends  Stock Splits  \n",
       "Date                                                           \n",
       "1998-09-24 00:00:00-04:00  518656090        0.0           0.0  \n",
       "1998-09-25 00:00:00-04:00  121255834        0.0           0.0  \n",
       "1998-09-28 00:00:00-04:00   89772883        0.0           0.0  \n",
       "1998-09-29 00:00:00-04:00   39289536        0.0           0.0  \n",
       "1998-09-30 00:00:00-04:00   44113766        0.0           0.0  \n",
       "...                              ...        ...           ...  \n",
       "2024-08-14 00:00:00-04:00    2993000        0.0           0.0  \n",
       "2024-08-15 00:00:00-04:00    4940000        0.0           0.0  \n",
       "2024-08-16 00:00:00-04:00    4966900        0.0           0.0  \n",
       "2024-08-19 00:00:00-04:00    3557300        0.0           0.0  \n",
       "2024-08-20 00:00:00-04:00    3137700        0.0           0.0  \n",
       "\n",
       "[6518 rows x 7 columns]"
      ]
     },
     "execution_count": 104,
     "metadata": {},
     "output_type": "execute_result"
    }
   ],
   "source": [
    "# Define the ticker symbol for eBay\n",
    "ticker_symbol = 'EBAY'\n",
    "\n",
    "# Fetch historical market data for eBay\n",
    "ebay_data = yf.Ticker(ticker_symbol)\n",
    "\n",
    "# Get historical data (you can specify the period and interval)\n",
    "historical_data = ebay_data.history(period='max', interval='1d')\n",
    "\n",
    "# Save the historical data to a CSV file\n",
    "historical_data.to_csv('ebay_historical_data.csv')\n",
    "\n",
    "#print the first few rows to confirm\n",
    "historical_data"
   ]
  },
  {
   "cell_type": "code",
   "execution_count": 105,
   "metadata": {},
   "outputs": [],
   "source": [
    "# Load the data\n",
    "data = pd.read_csv('ebay_historical_data.csv')"
   ]
  },
  {
   "cell_type": "code",
   "execution_count": 106,
   "metadata": {
    "scrolled": true
   },
   "outputs": [
    {
     "data": {
      "text/html": [
       "<div>\n",
       "<style scoped>\n",
       "    .dataframe tbody tr th:only-of-type {\n",
       "        vertical-align: middle;\n",
       "    }\n",
       "\n",
       "    .dataframe tbody tr th {\n",
       "        vertical-align: top;\n",
       "    }\n",
       "\n",
       "    .dataframe thead th {\n",
       "        text-align: right;\n",
       "    }\n",
       "</style>\n",
       "<table border=\"1\" class=\"dataframe\">\n",
       "  <thead>\n",
       "    <tr style=\"text-align: right;\">\n",
       "      <th></th>\n",
       "      <th>Date</th>\n",
       "      <th>Open</th>\n",
       "      <th>High</th>\n",
       "      <th>Low</th>\n",
       "      <th>Close</th>\n",
       "      <th>Volume</th>\n",
       "      <th>Dividends</th>\n",
       "      <th>Stock Splits</th>\n",
       "    </tr>\n",
       "  </thead>\n",
       "  <tbody>\n",
       "    <tr>\n",
       "      <th>0</th>\n",
       "      <td>1998-09-24 00:00:00-04:00</td>\n",
       "      <td>0.855242</td>\n",
       "      <td>0.867232</td>\n",
       "      <td>0.707373</td>\n",
       "      <td>0.757329</td>\n",
       "      <td>518656090</td>\n",
       "      <td>0.0</td>\n",
       "      <td>0.0</td>\n",
       "    </tr>\n",
       "    <tr>\n",
       "      <th>1</th>\n",
       "      <td>1998-09-25 00:00:00-04:00</td>\n",
       "      <td>0.727356</td>\n",
       "      <td>0.737347</td>\n",
       "      <td>0.657418</td>\n",
       "      <td>0.717364</td>\n",
       "      <td>121255834</td>\n",
       "      <td>0.0</td>\n",
       "      <td>0.0</td>\n",
       "    </tr>\n",
       "    <tr>\n",
       "      <th>2</th>\n",
       "      <td>1998-09-28 00:00:00-04:00</td>\n",
       "      <td>0.759328</td>\n",
       "      <td>0.813279</td>\n",
       "      <td>0.735349</td>\n",
       "      <td>0.771317</td>\n",
       "      <td>89772883</td>\n",
       "      <td>0.0</td>\n",
       "      <td>0.0</td>\n",
       "    </tr>\n",
       "    <tr>\n",
       "      <th>3</th>\n",
       "      <td>1998-09-29 00:00:00-04:00</td>\n",
       "      <td>0.789300</td>\n",
       "      <td>0.803288</td>\n",
       "      <td>0.763324</td>\n",
       "      <td>0.781308</td>\n",
       "      <td>39289536</td>\n",
       "      <td>0.0</td>\n",
       "      <td>0.0</td>\n",
       "    </tr>\n",
       "    <tr>\n",
       "      <th>4</th>\n",
       "      <td>1998-09-30 00:00:00-04:00</td>\n",
       "      <td>0.754331</td>\n",
       "      <td>0.767320</td>\n",
       "      <td>0.691388</td>\n",
       "      <td>0.720361</td>\n",
       "      <td>44113766</td>\n",
       "      <td>0.0</td>\n",
       "      <td>0.0</td>\n",
       "    </tr>\n",
       "  </tbody>\n",
       "</table>\n",
       "</div>"
      ],
      "text/plain": [
       "                        Date      Open      High       Low     Close  \\\n",
       "0  1998-09-24 00:00:00-04:00  0.855242  0.867232  0.707373  0.757329   \n",
       "1  1998-09-25 00:00:00-04:00  0.727356  0.737347  0.657418  0.717364   \n",
       "2  1998-09-28 00:00:00-04:00  0.759328  0.813279  0.735349  0.771317   \n",
       "3  1998-09-29 00:00:00-04:00  0.789300  0.803288  0.763324  0.781308   \n",
       "4  1998-09-30 00:00:00-04:00  0.754331  0.767320  0.691388  0.720361   \n",
       "\n",
       "      Volume  Dividends  Stock Splits  \n",
       "0  518656090        0.0           0.0  \n",
       "1  121255834        0.0           0.0  \n",
       "2   89772883        0.0           0.0  \n",
       "3   39289536        0.0           0.0  \n",
       "4   44113766        0.0           0.0  "
      ]
     },
     "execution_count": 106,
     "metadata": {},
     "output_type": "execute_result"
    }
   ],
   "source": [
    "# check dataset structure\n",
    "data.head()"
   ]
  },
  {
   "cell_type": "code",
   "execution_count": 107,
   "metadata": {},
   "outputs": [
    {
     "data": {
      "text/html": [
       "<div>\n",
       "<style scoped>\n",
       "    .dataframe tbody tr th:only-of-type {\n",
       "        vertical-align: middle;\n",
       "    }\n",
       "\n",
       "    .dataframe tbody tr th {\n",
       "        vertical-align: top;\n",
       "    }\n",
       "\n",
       "    .dataframe thead th {\n",
       "        text-align: right;\n",
       "    }\n",
       "</style>\n",
       "<table border=\"1\" class=\"dataframe\">\n",
       "  <thead>\n",
       "    <tr style=\"text-align: right;\">\n",
       "      <th></th>\n",
       "      <th>Date</th>\n",
       "      <th>Open</th>\n",
       "      <th>High</th>\n",
       "      <th>Low</th>\n",
       "      <th>Close</th>\n",
       "      <th>Volume</th>\n",
       "      <th>Dividends</th>\n",
       "      <th>Stock Splits</th>\n",
       "    </tr>\n",
       "  </thead>\n",
       "  <tbody>\n",
       "    <tr>\n",
       "      <th>6513</th>\n",
       "      <td>2024-08-14 00:00:00-04:00</td>\n",
       "      <td>55.889999</td>\n",
       "      <td>56.709999</td>\n",
       "      <td>55.750000</td>\n",
       "      <td>55.759998</td>\n",
       "      <td>2993000</td>\n",
       "      <td>0.0</td>\n",
       "      <td>0.0</td>\n",
       "    </tr>\n",
       "    <tr>\n",
       "      <th>6514</th>\n",
       "      <td>2024-08-15 00:00:00-04:00</td>\n",
       "      <td>56.330002</td>\n",
       "      <td>56.660000</td>\n",
       "      <td>55.610001</td>\n",
       "      <td>55.830002</td>\n",
       "      <td>4940000</td>\n",
       "      <td>0.0</td>\n",
       "      <td>0.0</td>\n",
       "    </tr>\n",
       "    <tr>\n",
       "      <th>6515</th>\n",
       "      <td>2024-08-16 00:00:00-04:00</td>\n",
       "      <td>55.900002</td>\n",
       "      <td>56.000000</td>\n",
       "      <td>54.799999</td>\n",
       "      <td>55.500000</td>\n",
       "      <td>4966900</td>\n",
       "      <td>0.0</td>\n",
       "      <td>0.0</td>\n",
       "    </tr>\n",
       "    <tr>\n",
       "      <th>6516</th>\n",
       "      <td>2024-08-19 00:00:00-04:00</td>\n",
       "      <td>55.430000</td>\n",
       "      <td>56.939999</td>\n",
       "      <td>55.290001</td>\n",
       "      <td>56.680000</td>\n",
       "      <td>3557300</td>\n",
       "      <td>0.0</td>\n",
       "      <td>0.0</td>\n",
       "    </tr>\n",
       "    <tr>\n",
       "      <th>6517</th>\n",
       "      <td>2024-08-20 00:00:00-04:00</td>\n",
       "      <td>56.730000</td>\n",
       "      <td>56.970001</td>\n",
       "      <td>56.369999</td>\n",
       "      <td>56.939999</td>\n",
       "      <td>3137700</td>\n",
       "      <td>0.0</td>\n",
       "      <td>0.0</td>\n",
       "    </tr>\n",
       "  </tbody>\n",
       "</table>\n",
       "</div>"
      ],
      "text/plain": [
       "                           Date       Open       High        Low      Close  \\\n",
       "6513  2024-08-14 00:00:00-04:00  55.889999  56.709999  55.750000  55.759998   \n",
       "6514  2024-08-15 00:00:00-04:00  56.330002  56.660000  55.610001  55.830002   \n",
       "6515  2024-08-16 00:00:00-04:00  55.900002  56.000000  54.799999  55.500000   \n",
       "6516  2024-08-19 00:00:00-04:00  55.430000  56.939999  55.290001  56.680000   \n",
       "6517  2024-08-20 00:00:00-04:00  56.730000  56.970001  56.369999  56.939999   \n",
       "\n",
       "       Volume  Dividends  Stock Splits  \n",
       "6513  2993000        0.0           0.0  \n",
       "6514  4940000        0.0           0.0  \n",
       "6515  4966900        0.0           0.0  \n",
       "6516  3557300        0.0           0.0  \n",
       "6517  3137700        0.0           0.0  "
      ]
     },
     "execution_count": 107,
     "metadata": {},
     "output_type": "execute_result"
    }
   ],
   "source": [
    "data.tail()"
   ]
  },
  {
   "cell_type": "code",
   "execution_count": 108,
   "metadata": {},
   "outputs": [
    {
     "name": "stdout",
     "output_type": "stream",
     "text": [
      "<class 'pandas.core.frame.DataFrame'>\n",
      "RangeIndex: 6518 entries, 0 to 6517\n",
      "Data columns (total 8 columns):\n",
      " #   Column        Non-Null Count  Dtype  \n",
      "---  ------        --------------  -----  \n",
      " 0   Date          6518 non-null   object \n",
      " 1   Open          6518 non-null   float64\n",
      " 2   High          6518 non-null   float64\n",
      " 3   Low           6518 non-null   float64\n",
      " 4   Close         6518 non-null   float64\n",
      " 5   Volume        6518 non-null   int64  \n",
      " 6   Dividends     6518 non-null   float64\n",
      " 7   Stock Splits  6518 non-null   float64\n",
      "dtypes: float64(6), int64(1), object(1)\n",
      "memory usage: 407.5+ KB\n"
     ]
    }
   ],
   "source": [
    "data.info()"
   ]
  },
  {
   "cell_type": "code",
   "execution_count": 109,
   "metadata": {},
   "outputs": [
    {
     "data": {
      "text/plain": [
       "Date             object\n",
       "Open            float64\n",
       "High            float64\n",
       "Low             float64\n",
       "Close           float64\n",
       "Volume            int64\n",
       "Dividends       float64\n",
       "Stock Splits    float64\n",
       "dtype: object"
      ]
     },
     "execution_count": 109,
     "metadata": {},
     "output_type": "execute_result"
    }
   ],
   "source": [
    "data.dtypes"
   ]
  },
  {
   "cell_type": "code",
   "execution_count": 110,
   "metadata": {},
   "outputs": [
    {
     "data": {
      "text/html": [
       "<div>\n",
       "<style scoped>\n",
       "    .dataframe tbody tr th:only-of-type {\n",
       "        vertical-align: middle;\n",
       "    }\n",
       "\n",
       "    .dataframe tbody tr th {\n",
       "        vertical-align: top;\n",
       "    }\n",
       "\n",
       "    .dataframe thead th {\n",
       "        text-align: right;\n",
       "    }\n",
       "</style>\n",
       "<table border=\"1\" class=\"dataframe\">\n",
       "  <thead>\n",
       "    <tr style=\"text-align: right;\">\n",
       "      <th></th>\n",
       "      <th>Open</th>\n",
       "      <th>High</th>\n",
       "      <th>Low</th>\n",
       "      <th>Close</th>\n",
       "      <th>Volume</th>\n",
       "      <th>Dividends</th>\n",
       "      <th>Stock Splits</th>\n",
       "    </tr>\n",
       "  </thead>\n",
       "  <tbody>\n",
       "    <tr>\n",
       "      <th>count</th>\n",
       "      <td>6518.000000</td>\n",
       "      <td>6518.000000</td>\n",
       "      <td>6518.000000</td>\n",
       "      <td>6518.000000</td>\n",
       "      <td>6.518000e+03</td>\n",
       "      <td>6518.000000</td>\n",
       "      <td>6518.000000</td>\n",
       "    </tr>\n",
       "    <tr>\n",
       "      <th>mean</th>\n",
       "      <td>21.574484</td>\n",
       "      <td>21.866159</td>\n",
       "      <td>21.296512</td>\n",
       "      <td>21.581661</td>\n",
       "      <td>3.271291e+07</td>\n",
       "      <td>0.000666</td>\n",
       "      <td>0.001745</td>\n",
       "    </tr>\n",
       "    <tr>\n",
       "      <th>std</th>\n",
       "      <td>15.763165</td>\n",
       "      <td>15.942615</td>\n",
       "      <td>15.600251</td>\n",
       "      <td>15.768428</td>\n",
       "      <td>3.350210e+07</td>\n",
       "      <td>0.011731</td>\n",
       "      <td>0.063918</td>\n",
       "    </tr>\n",
       "    <tr>\n",
       "      <th>min</th>\n",
       "      <td>0.445605</td>\n",
       "      <td>0.467586</td>\n",
       "      <td>0.403642</td>\n",
       "      <td>0.463589</td>\n",
       "      <td>2.129200e+06</td>\n",
       "      <td>0.000000</td>\n",
       "      <td>0.000000</td>\n",
       "    </tr>\n",
       "    <tr>\n",
       "      <th>25%</th>\n",
       "      <td>9.367781</td>\n",
       "      <td>9.511896</td>\n",
       "      <td>9.195374</td>\n",
       "      <td>9.358429</td>\n",
       "      <td>9.833975e+06</td>\n",
       "      <td>0.000000</td>\n",
       "      <td>0.000000</td>\n",
       "    </tr>\n",
       "    <tr>\n",
       "      <th>50%</th>\n",
       "      <td>16.117563</td>\n",
       "      <td>16.346797</td>\n",
       "      <td>15.881608</td>\n",
       "      <td>16.113726</td>\n",
       "      <td>2.584138e+07</td>\n",
       "      <td>0.000000</td>\n",
       "      <td>0.000000</td>\n",
       "    </tr>\n",
       "    <tr>\n",
       "      <th>75%</th>\n",
       "      <td>31.905173</td>\n",
       "      <td>32.212832</td>\n",
       "      <td>31.615746</td>\n",
       "      <td>31.938423</td>\n",
       "      <td>4.349102e+07</td>\n",
       "      <td>0.000000</td>\n",
       "      <td>0.000000</td>\n",
       "    </tr>\n",
       "    <tr>\n",
       "      <th>max</th>\n",
       "      <td>76.652465</td>\n",
       "      <td>76.860714</td>\n",
       "      <td>75.639509</td>\n",
       "      <td>76.292702</td>\n",
       "      <td>5.776987e+08</td>\n",
       "      <td>0.270000</td>\n",
       "      <td>3.000000</td>\n",
       "    </tr>\n",
       "  </tbody>\n",
       "</table>\n",
       "</div>"
      ],
      "text/plain": [
       "              Open         High          Low        Close        Volume  \\\n",
       "count  6518.000000  6518.000000  6518.000000  6518.000000  6.518000e+03   \n",
       "mean     21.574484    21.866159    21.296512    21.581661  3.271291e+07   \n",
       "std      15.763165    15.942615    15.600251    15.768428  3.350210e+07   \n",
       "min       0.445605     0.467586     0.403642     0.463589  2.129200e+06   \n",
       "25%       9.367781     9.511896     9.195374     9.358429  9.833975e+06   \n",
       "50%      16.117563    16.346797    15.881608    16.113726  2.584138e+07   \n",
       "75%      31.905173    32.212832    31.615746    31.938423  4.349102e+07   \n",
       "max      76.652465    76.860714    75.639509    76.292702  5.776987e+08   \n",
       "\n",
       "         Dividends  Stock Splits  \n",
       "count  6518.000000   6518.000000  \n",
       "mean      0.000666      0.001745  \n",
       "std       0.011731      0.063918  \n",
       "min       0.000000      0.000000  \n",
       "25%       0.000000      0.000000  \n",
       "50%       0.000000      0.000000  \n",
       "75%       0.000000      0.000000  \n",
       "max       0.270000      3.000000  "
      ]
     },
     "execution_count": 110,
     "metadata": {},
     "output_type": "execute_result"
    }
   ],
   "source": [
    "# Display basic statistics of the dataset\n",
    "\n",
    "data.describe()"
   ]
  },
  {
   "cell_type": "markdown",
   "metadata": {},
   "source": [
    "__Overview__\n",
    "\n",
    "- The dataset contains columns such as Date, Open, High, Low, Close, Volume, Dividends, and Stock Splits.\n",
    "- \n",
    "The data spans from 1998 and includes daily stock prices and volumes\n",
    "- \n",
    "The Dividends and Stock Splits columns mostly contain zeros, indicating that these events are rare."
   ]
  },
  {
   "cell_type": "markdown",
   "metadata": {},
   "source": [
    "# 3. Data Preparation"
   ]
  },
  {
   "cell_type": "markdown",
   "metadata": {},
   "source": [
    "We'll move on to the Data Preparation step, where we'll clean and prepare the data for modeling.\n",
    "\n",
    "This will include:\n",
    "- handling missing values\n",
    "- feature engineering\n",
    "- and splitting the data into training and testing sets.\n",
    "\n",
    "Let's proceed with that."
   ]
  },
  {
   "cell_type": "code",
   "execution_count": 111,
   "metadata": {},
   "outputs": [],
   "source": [
    "data['Date'] = pd.to_datetime(data['Date'])"
   ]
  },
  {
   "cell_type": "code",
   "execution_count": 112,
   "metadata": {},
   "outputs": [],
   "source": [
    " data = data.set_index('Date')"
   ]
  },
  {
   "cell_type": "markdown",
   "metadata": {},
   "source": [
    "Then, we will set the date as the index so as to allow easier time-based operations as well as manipulations of the data.\n",
    "\n",
    "This step also ensures that feature engineering, and modeling efforts are more streamlined and effective."
   ]
  },
  {
   "cell_type": "code",
   "execution_count": 113,
   "metadata": {
    "scrolled": true
   },
   "outputs": [
    {
     "data": {
      "text/plain": [
       "Open            0\n",
       "High            0\n",
       "Low             0\n",
       "Close           0\n",
       "Volume          0\n",
       "Dividends       0\n",
       "Stock Splits    0\n",
       "dtype: int64"
      ]
     },
     "execution_count": 113,
     "metadata": {},
     "output_type": "execute_result"
    }
   ],
   "source": [
    "# Check for missing values\n",
    "\n",
    "data.isnull().sum()"
   ]
  },
  {
   "cell_type": "code",
   "execution_count": 114,
   "metadata": {},
   "outputs": [
    {
     "name": "stdout",
     "output_type": "stream",
     "text": [
      "Number of duplicate rows: 0\n"
     ]
    }
   ],
   "source": [
    "# Check for duplicates\n",
    "duplicate_rows = data[data.duplicated()]\n",
    "\n",
    "# Count the number of duplicate rows\n",
    "num_duplicates = len(duplicate_rows)\n",
    "\n",
    "print(f\"Number of duplicate rows: {num_duplicates}\")"
   ]
  },
  {
   "cell_type": "markdown",
   "metadata": {},
   "source": [
    "We are then going to drop columns that are not needed for modeling\n",
    "\n",
    "Assuming 'Dividends' and 'Stock Splits' are not needed due to their low variance"
   ]
  },
  {
   "cell_type": "code",
   "execution_count": 115,
   "metadata": {},
   "outputs": [
    {
     "data": {
      "text/html": [
       "<div>\n",
       "<style scoped>\n",
       "    .dataframe tbody tr th:only-of-type {\n",
       "        vertical-align: middle;\n",
       "    }\n",
       "\n",
       "    .dataframe tbody tr th {\n",
       "        vertical-align: top;\n",
       "    }\n",
       "\n",
       "    .dataframe thead th {\n",
       "        text-align: right;\n",
       "    }\n",
       "</style>\n",
       "<table border=\"1\" class=\"dataframe\">\n",
       "  <thead>\n",
       "    <tr style=\"text-align: right;\">\n",
       "      <th></th>\n",
       "      <th>Open</th>\n",
       "      <th>High</th>\n",
       "      <th>Low</th>\n",
       "      <th>Close</th>\n",
       "      <th>Volume</th>\n",
       "    </tr>\n",
       "    <tr>\n",
       "      <th>Date</th>\n",
       "      <th></th>\n",
       "      <th></th>\n",
       "      <th></th>\n",
       "      <th></th>\n",
       "      <th></th>\n",
       "    </tr>\n",
       "  </thead>\n",
       "  <tbody>\n",
       "    <tr>\n",
       "      <th>1998-09-24 00:00:00-04:00</th>\n",
       "      <td>0.855242</td>\n",
       "      <td>0.867232</td>\n",
       "      <td>0.707373</td>\n",
       "      <td>0.757329</td>\n",
       "      <td>518656090</td>\n",
       "    </tr>\n",
       "    <tr>\n",
       "      <th>1998-09-25 00:00:00-04:00</th>\n",
       "      <td>0.727356</td>\n",
       "      <td>0.737347</td>\n",
       "      <td>0.657418</td>\n",
       "      <td>0.717364</td>\n",
       "      <td>121255834</td>\n",
       "    </tr>\n",
       "    <tr>\n",
       "      <th>1998-09-28 00:00:00-04:00</th>\n",
       "      <td>0.759328</td>\n",
       "      <td>0.813279</td>\n",
       "      <td>0.735349</td>\n",
       "      <td>0.771317</td>\n",
       "      <td>89772883</td>\n",
       "    </tr>\n",
       "    <tr>\n",
       "      <th>1998-09-29 00:00:00-04:00</th>\n",
       "      <td>0.789300</td>\n",
       "      <td>0.803288</td>\n",
       "      <td>0.763324</td>\n",
       "      <td>0.781308</td>\n",
       "      <td>39289536</td>\n",
       "    </tr>\n",
       "    <tr>\n",
       "      <th>1998-09-30 00:00:00-04:00</th>\n",
       "      <td>0.754331</td>\n",
       "      <td>0.767320</td>\n",
       "      <td>0.691388</td>\n",
       "      <td>0.720361</td>\n",
       "      <td>44113766</td>\n",
       "    </tr>\n",
       "  </tbody>\n",
       "</table>\n",
       "</div>"
      ],
      "text/plain": [
       "                               Open      High       Low     Close     Volume\n",
       "Date                                                                        \n",
       "1998-09-24 00:00:00-04:00  0.855242  0.867232  0.707373  0.757329  518656090\n",
       "1998-09-25 00:00:00-04:00  0.727356  0.737347  0.657418  0.717364  121255834\n",
       "1998-09-28 00:00:00-04:00  0.759328  0.813279  0.735349  0.771317   89772883\n",
       "1998-09-29 00:00:00-04:00  0.789300  0.803288  0.763324  0.781308   39289536\n",
       "1998-09-30 00:00:00-04:00  0.754331  0.767320  0.691388  0.720361   44113766"
      ]
     },
     "execution_count": 115,
     "metadata": {},
     "output_type": "execute_result"
    }
   ],
   "source": [
    "data = data.drop(['Dividends', 'Stock Splits'], axis=1)\n",
    "\n",
    "data.head()"
   ]
  },
  {
   "cell_type": "markdown",
   "metadata": {},
   "source": [
    "## Feature Engineering"
   ]
  },
  {
   "cell_type": "markdown",
   "metadata": {},
   "source": [
    "Let's create a 'Year' and 'Month' column from the 'Date'"
   ]
  },
  {
   "cell_type": "code",
   "execution_count": 116,
   "metadata": {
    "scrolled": true
   },
   "outputs": [],
   "source": [
    "# Initialize data_reset if needed\n",
    "data_reset = data.reset_index()\n",
    "\n",
    "# Convert to UTC to ensure consistency in datetime format\n",
    "data_reset['Date'] = pd.to_datetime(data_reset['Date'], utc=True)\n",
    "\n",
    "# Remove timezone information\n",
    "data_reset['Date'] = data_reset['Date'].dt.tz_localize(None)\n",
    "\n",
    "# Feature engineering\n",
    "data_reset['Year'] = data_reset['Date'].dt.year\n",
    "data_reset['Month'] = data_reset['Date'].dt.month\n",
    "\n",
    "# Set 'Date' back as the index if needed\n",
    "data = data_reset.set_index('Date')"
   ]
  },
  {
   "cell_type": "code",
   "execution_count": 117,
   "metadata": {},
   "outputs": [],
   "source": [
    "# Create lag features\n",
    "data['Lag1'] = data['Close'].shift(1)\n",
    "data['Lag2'] = data['Close'].shift(2)\n",
    "data['RollingMean_30'] = data['Close'].rolling(window=30).mean()\n",
    "data['RollingStd_30'] = data['Close'].rolling(window=30).std()\n",
    "data = data.dropna()  # Drop rows with NaN values"
   ]
  },
  {
   "cell_type": "code",
   "execution_count": 118,
   "metadata": {
    "scrolled": true
   },
   "outputs": [
    {
     "data": {
      "text/html": [
       "<div>\n",
       "<style scoped>\n",
       "    .dataframe tbody tr th:only-of-type {\n",
       "        vertical-align: middle;\n",
       "    }\n",
       "\n",
       "    .dataframe tbody tr th {\n",
       "        vertical-align: top;\n",
       "    }\n",
       "\n",
       "    .dataframe thead th {\n",
       "        text-align: right;\n",
       "    }\n",
       "</style>\n",
       "<table border=\"1\" class=\"dataframe\">\n",
       "  <thead>\n",
       "    <tr style=\"text-align: right;\">\n",
       "      <th></th>\n",
       "      <th>Open</th>\n",
       "      <th>High</th>\n",
       "      <th>Low</th>\n",
       "      <th>Close</th>\n",
       "      <th>Volume</th>\n",
       "      <th>Year</th>\n",
       "      <th>Month</th>\n",
       "      <th>Lag1</th>\n",
       "      <th>Lag2</th>\n",
       "      <th>RollingMean_30</th>\n",
       "      <th>RollingStd_30</th>\n",
       "    </tr>\n",
       "    <tr>\n",
       "      <th>Date</th>\n",
       "      <th></th>\n",
       "      <th></th>\n",
       "      <th></th>\n",
       "      <th></th>\n",
       "      <th></th>\n",
       "      <th></th>\n",
       "      <th></th>\n",
       "      <th></th>\n",
       "      <th></th>\n",
       "      <th></th>\n",
       "      <th></th>\n",
       "    </tr>\n",
       "  </thead>\n",
       "  <tbody>\n",
       "    <tr>\n",
       "      <th>1998-11-04 05:00:00</th>\n",
       "      <td>1.366790</td>\n",
       "      <td>1.370786</td>\n",
       "      <td>1.305843</td>\n",
       "      <td>1.321829</td>\n",
       "      <td>44632685</td>\n",
       "      <td>1998</td>\n",
       "      <td>11</td>\n",
       "      <td>1.342810</td>\n",
       "      <td>1.342810</td>\n",
       "      <td>0.815677</td>\n",
       "      <td>0.316382</td>\n",
       "    </tr>\n",
       "    <tr>\n",
       "      <th>1998-11-05 05:00:00</th>\n",
       "      <td>1.294853</td>\n",
       "      <td>1.338814</td>\n",
       "      <td>1.258884</td>\n",
       "      <td>1.297851</td>\n",
       "      <td>66085114</td>\n",
       "      <td>1998</td>\n",
       "      <td>11</td>\n",
       "      <td>1.321829</td>\n",
       "      <td>1.342810</td>\n",
       "      <td>0.833695</td>\n",
       "      <td>0.328118</td>\n",
       "    </tr>\n",
       "    <tr>\n",
       "      <th>1998-11-06 05:00:00</th>\n",
       "      <td>1.284862</td>\n",
       "      <td>1.349804</td>\n",
       "      <td>1.282863</td>\n",
       "      <td>1.342810</td>\n",
       "      <td>48966509</td>\n",
       "      <td>1998</td>\n",
       "      <td>11</td>\n",
       "      <td>1.297851</td>\n",
       "      <td>1.321829</td>\n",
       "      <td>0.854543</td>\n",
       "      <td>0.340122</td>\n",
       "    </tr>\n",
       "    <tr>\n",
       "      <th>1998-11-09 05:00:00</th>\n",
       "      <td>1.352801</td>\n",
       "      <td>1.646541</td>\n",
       "      <td>1.350803</td>\n",
       "      <td>1.646541</td>\n",
       "      <td>202355366</td>\n",
       "      <td>1998</td>\n",
       "      <td>11</td>\n",
       "      <td>1.342810</td>\n",
       "      <td>1.297851</td>\n",
       "      <td>0.883717</td>\n",
       "      <td>0.369044</td>\n",
       "    </tr>\n",
       "    <tr>\n",
       "      <th>1998-11-10 05:00:00</th>\n",
       "      <td>1.801404</td>\n",
       "      <td>2.238018</td>\n",
       "      <td>1.776426</td>\n",
       "      <td>2.092146</td>\n",
       "      <td>577698739</td>\n",
       "      <td>1998</td>\n",
       "      <td>11</td>\n",
       "      <td>1.646541</td>\n",
       "      <td>1.342810</td>\n",
       "      <td>0.927412</td>\n",
       "      <td>0.429199</td>\n",
       "    </tr>\n",
       "  </tbody>\n",
       "</table>\n",
       "</div>"
      ],
      "text/plain": [
       "                         Open      High       Low     Close     Volume  Year  \\\n",
       "Date                                                                           \n",
       "1998-11-04 05:00:00  1.366790  1.370786  1.305843  1.321829   44632685  1998   \n",
       "1998-11-05 05:00:00  1.294853  1.338814  1.258884  1.297851   66085114  1998   \n",
       "1998-11-06 05:00:00  1.284862  1.349804  1.282863  1.342810   48966509  1998   \n",
       "1998-11-09 05:00:00  1.352801  1.646541  1.350803  1.646541  202355366  1998   \n",
       "1998-11-10 05:00:00  1.801404  2.238018  1.776426  2.092146  577698739  1998   \n",
       "\n",
       "                     Month      Lag1      Lag2  RollingMean_30  RollingStd_30  \n",
       "Date                                                                           \n",
       "1998-11-04 05:00:00     11  1.342810  1.342810        0.815677       0.316382  \n",
       "1998-11-05 05:00:00     11  1.321829  1.342810        0.833695       0.328118  \n",
       "1998-11-06 05:00:00     11  1.297851  1.321829        0.854543       0.340122  \n",
       "1998-11-09 05:00:00     11  1.342810  1.297851        0.883717       0.369044  \n",
       "1998-11-10 05:00:00     11  1.646541  1.342810        0.927412       0.429199  "
      ]
     },
     "execution_count": 118,
     "metadata": {},
     "output_type": "execute_result"
    }
   ],
   "source": [
    "data.head()"
   ]
  },
  {
   "cell_type": "markdown",
   "metadata": {},
   "source": [
    "With these features, you can now use them as inputs to train a predictive model. These lag features and rolling statistics can help the model understand trends, momentum, and volatility in the data, which are often crucial in time series forecasting tasks, such as predicting future closing prices."
   ]
  },
  {
   "cell_type": "markdown",
   "metadata": {},
   "source": [
    "## Visualization"
   ]
  },
  {
   "cell_type": "markdown",
   "metadata": {},
   "source": [
    "Let's create a visualizaton of the historical closing prices over time prices"
   ]
  },
  {
   "cell_type": "code",
   "execution_count": 119,
   "metadata": {
    "scrolled": true
   },
   "outputs": [
    {
     "data": {
      "image/png": "[encoded data removed]",
      "text/plain": [
       "<Figure size 1008x504 with 1 Axes>"
      ]
     },
     "metadata": {
      "needs_background": "light"
     },
     "output_type": "display_data"
    }
   ],
   "source": [
    "# Plot the closing prices over time\n",
    "plt.figure(figsize=(14, 7))\n",
    "plt.plot(data_index, np.squeeze(data['Close'].values), label='Close Price')\n",
    "plt.title('Historical Closing Prices')\n",
    "plt.xlabel('Date')\n",
    "plt.ylabel('Close Price')\n",
    "plt.legend()\n",
    "plt.show()"
   ]
  },
  {
   "cell_type": "markdown",
   "metadata": {
    "jp-MarkdownHeadingCollapsed": true
   },
   "source": [
    "Let's further analyze the data by calculating the moving average to smooth out the price trends.\n",
    "\n",
    "We will calculate a 30-day moving average and plot it alongside the closing prices.\n",
    "\n",
    "The 30-day moving average line provides a more stable view of the market trend, reducing the noise from daily price changes. It can be used to identify potential support and resistance levels, as well as to signal potential trend reversals."
   ]
  },
  {
   "cell_type": "code",
   "execution_count": 120,
   "metadata": {},
   "outputs": [
    {
     "data": {
      "image/png": "[encoded data removed]",
      "text/plain": [
       "<Figure size 1008x504 with 1 Axes>"
      ]
     },
     "metadata": {
      "needs_background": "light"
     },
     "output_type": "display_data"
    }
   ],
   "source": [
    "# Calculate the 30-day moving average\n",
    "moving_average_30 = data['Close'].rolling(window=30).mean().to_numpy()\n",
    "\n",
    "# Plot the closing prices and the 30-day moving average\n",
    "plt.figure(figsize=(14, 7))\n",
    "plt.plot(data.index.to_numpy(), data['Close'].to_numpy(), label='Close Price')\n",
    "plt.plot(data.index.to_numpy(), moving_average_30, label='30-Day Moving Average', color='orange')\n",
    "plt.title('Historical Closing Prices with 30-Day Moving Average')\n",
    "plt.xlabel('Date')\n",
    "plt.ylabel('Price')\n",
    "plt.legend()\n",
    "plt.xticks(rotation=45)\n",
    "plt.tight_layout()\n",
    "plt.show()"
   ]
  },
  {
   "cell_type": "markdown",
   "metadata": {},
   "source": [
    "__Overview__\n",
    "\n",
    "The closing prices exhibit volatility, with noticeable peaks and troughs. This suggests that the market has experienced periods of rapid change, which could be due to various economic factors or events."
   ]
  },
  {
   "cell_type": "markdown",
   "metadata": {},
   "source": [
    "Let us now check for trend and seasonality in our data."
   ]
  },
  {
   "cell_type": "code",
   "execution_count": 121,
   "metadata": {},
   "outputs": [
    {
     "data": {
      "text/plain": [
       "\"\\n# Plot the decomposed components\\nplt.figure(figsize=(14, 10))\\n\\n# Observed\\nplt.subplot(411)\\nsns.lineplot(x=range(len(decomposition.observed)), y=decomposition.observed, color='blue', label='Observed')\\nplt.legend(loc='upper left')\\nplt.title('Observed')\\n\\n# Trend\\nplt.subplot(412)\\nsns.lineplot(x=range(len(decomposition.trend)), y=decomposition.trend, color='green', label='Trend')\\nplt.legend(loc='upper left')\\nplt.title('Trend')\\n\\n# Seasonal\\nplt.subplot(413)\\nsns.lineplot(x=range(len(decomposition.seasonal)), y=decomposition.seasonal, color='orange', label='Seasonal')\\nplt.legend(loc='upper left')\\nplt.title('Seasonal')\\n\\n# Residual\\nplt.subplot(414)\\nsns.lineplot(x=range(len(decomposition.resid)), y=decomposition.resid, color='red', label='Residual')\\nplt.legend(loc='upper left')\\nplt.title('Residual')\\n\\nplt.tight_layout()\\nplt.show()\\n\""
      ]
     },
     "execution_count": 121,
     "metadata": {},
     "output_type": "execute_result"
    }
   ],
   "source": [
    "decomposition = seasonal_decompose(data['Close'], model='additive', period=252)  # 252 trading days in a year\n",
    "\n",
    "'''\n",
    "# Plot the decomposed components\n",
    "plt.figure(figsize=(14, 10))\n",
    "\n",
    "# Observed\n",
    "plt.subplot(411)\n",
    "sns.lineplot(x=range(len(decomposition.observed)), y=decomposition.observed, color='blue', label='Observed')\n",
    "plt.legend(loc='upper left')\n",
    "plt.title('Observed')\n",
    "\n",
    "# Trend\n",
    "plt.subplot(412)\n",
    "sns.lineplot(x=range(len(decomposition.trend)), y=decomposition.trend, color='green', label='Trend')\n",
    "plt.legend(loc='upper left')\n",
    "plt.title('Trend')\n",
    "\n",
    "# Seasonal\n",
    "plt.subplot(413)\n",
    "sns.lineplot(x=range(len(decomposition.seasonal)), y=decomposition.seasonal, color='orange', label='Seasonal')\n",
    "plt.legend(loc='upper left')\n",
    "plt.title('Seasonal')\n",
    "\n",
    "# Residual\n",
    "plt.subplot(414)\n",
    "sns.lineplot(x=range(len(decomposition.resid)), y=decomposition.resid, color='red', label='Residual')\n",
    "plt.legend(loc='upper left')\n",
    "plt.title('Residual')\n",
    "\n",
    "plt.tight_layout()\n",
    "plt.show()\n",
    "'''"
   ]
  },
  {
   "cell_type": "markdown",
   "metadata": {},
   "source": [
    "1. Original Time Series: It shows that the overall movement of the stock closing prices over time has an upward movement.\n",
    "2. Trend Component:the trend is upward,indicating a general increase in stock closing prices over the period.\n",
    "3. Seasonal Component:seasonality component has spikes, it indicates that the data exhibit strong or regular seasonal patterns. In other words, there are a consistent, repeating fluctuations that occur at the same intervals.\n",
    ">The seasonal component captures repeating patterns or cycles within specific intervals, typically within a year. This plot reveals consistent seasonal fluctuations in the closing prices, with peaks and troughs recurring annually.\n",
    "\n",
    "4. Residual Component:\n",
    ">The residual component is what remains after removing the trend and seasonal effects from the observed data. It captures the irregular or random fluctuations in the data that are not explained by the trend or seasonality. The residuals appear to show increased volatility around 2020, possibly due to unexpected market events."
   ]
  },
  {
   "cell_type": "markdown",
   "metadata": {},
   "source": [
    "**Check Stationarity:**\n",
    "\n",
    "Use the Augmented Dickey-Fuller (ADF) test to check if the data is stationary. ARIMA requires the data to be stationary, meaning the statistical properties like mean and variance do not change over time."
   ]
  },
  {
   "cell_type": "code",
   "execution_count": 122,
   "metadata": {
    "scrolled": true
   },
   "outputs": [
    {
     "name": "stdout",
     "output_type": "stream",
     "text": [
      "ADF Statistic: -0.423910\n",
      "p-value: 0.906029\n"
     ]
    }
   ],
   "source": [
    "result = adfuller(data['Close'])\n",
    "print('ADF Statistic: %f' % result[0])\n",
    "print('p-value: %f' % result[1])"
   ]
  },
  {
   "cell_type": "markdown",
   "metadata": {},
   "source": [
    "Non-Stationarity: The p-value is quite high ( 0.892970), well above the common thresholds of 0.05 or 0.10, meaning there is not enough evidence to reject the null hypothesis. This indicates that the time series is likely non-stationary.\n",
    "ADF Statistic: The ADF statistic being close to zero also supports the conclusion that the series is non-stationary.\n",
    "\n",
    "**What This Means for our Model**:\n",
    "Using non-stationary data to build a model can produce misleading results. Therefore, transforming the data to achieve stationarity is crucial for accurate forecasting."
   ]
  },
  {
   "cell_type": "code",
   "execution_count": 123,
   "metadata": {},
   "outputs": [
    {
     "name": "stdout",
     "output_type": "stream",
     "text": [
      "ADF Statistic: -15.504559\n",
      "p-value: 0.000000\n"
     ]
    }
   ],
   "source": [
    "data['Close_diff'] = data['Close'].diff().dropna()\n",
    "\n",
    "# Re-run the ADF test on the differenced data\n",
    "result_diff = adfuller(data['Close_diff'].dropna())\n",
    "print('ADF Statistic: %f' % result_diff[0])\n",
    "print('p-value: %f' % result_diff[1])"
   ]
  },
  {
   "cell_type": "markdown",
   "metadata": {},
   "source": [
    "ADF Statistic: A very negative value of -15.533247, strongly suggests that the null hypothesis of non-stationarity can be rejected.\n",
    "p-value: A p-value of 0.000000 is below the common significance level of 0.05, indicating strong evidence against the null hypothesis.\n",
    "\n",
    "**Conclusion**\n",
    "\n",
    "These results indicate that your differenced data is stationary.\n",
    "\n",
    "Since stationarity has been achieved, meaning it no longer has a unit root and its statistical properties do not change over time, we can now proceed with fitting an ARIMA model to your data."
   ]
  },
  {
   "cell_type": "markdown",
   "metadata": {},
   "source": [
    "# Modelling"
   ]
  },
  {
   "cell_type": "markdown",
   "metadata": {},
   "source": [
    "We will be using three models to train our data. That is :\n",
    "\n",
    "- ARIMA model \n",
    "- Prophet model \n",
    "- SARIMA model"
   ]
  },
  {
   "cell_type": "code",
   "execution_count": 124,
   "metadata": {},
   "outputs": [],
   "source": [
    "# Split the data into training and testing sets\n",
    "# Assume 80% of the data is for training and 20% is for testing\n",
    "train_size = int(len(data) * 0.8)\n",
    "train, test = data[:train_size], data[train_size:]"
   ]
  },
  {
   "cell_type": "markdown",
   "metadata": {},
   "source": [
    "1. Determine the ARIMA Parameters (p, d, q):\n",
    ">p (AutoRegressive term): Determine the number of lag observations included.\n",
    "d (Differencing term): You’ve already applied differencing, so d=1 in this case.\n",
    "q (Moving Average term): Determine the size of the moving average window.\n",
    "\n",
    "We use ACF and PACF plots to help choose the parameters."
   ]
  },
  {
   "cell_type": "code",
   "execution_count": 125,
   "metadata": {},
   "outputs": [
    {
     "data": {
      "image/png": "[encoded data removed]",
      "text/plain": [
       "<Figure size 1008x504 with 2 Axes>"
      ]
     },
     "metadata": {
      "needs_background": "light"
     },
     "output_type": "display_data"
    }
   ],
   "source": [
    "plt.figure(figsize=(14, 7))\n",
    "\n",
    "plt.subplot(211)\n",
    "plot_acf(data['Close_diff'].dropna(), ax=plt.gca(), lags=40)\n",
    "plt.title('ACF Plot')\n",
    "\n",
    "plt.subplot(212)\n",
    "plot_pacf(data['Close_diff'].dropna(), ax=plt.gca(), lags=40)\n",
    "plt.title('PACF Plot')\n",
    "\n",
    "plt.tight_layout()\n",
    "plt.show()"
   ]
  },
  {
   "cell_type": "markdown",
   "metadata": {},
   "source": [
    "Given the lack of significant spikes in both plots, we can infer the following ARIMA parameters:\n",
    "\n",
    "- p (AR order): 0, as there's no significant autocorrelation in the PACF.\n",
    "- d (differencing): You mentioned d=1 in your prompt.\n",
    "- q (MA order): 0, as there's no significant autocorrelation in the ACF."
   ]
  },
  {
   "cell_type": "markdown",
   "metadata": {},
   "source": [
    "After you’ve determined initial guesses for 𝑝,and 𝑞 using ACF and PACF plots, we can use statistical criteria to select the best model.We will use AIC and BIC :\n",
    "\n",
    "**Akaike Information Criterion (AIC)**: Measures the quality of the model while considering its complexity.A lower AIC values suggest a better model.\n",
    "\n",
    "**Bayesian Information Criterion (BIC)**: similar to AIC but penalizes model complexity more heavily. A lower BIC values suggest a better model."
   ]
  },
  {
   "cell_type": "code",
   "execution_count": 126,
   "metadata": {},
   "outputs": [
    {
     "name": "stdout",
     "output_type": "stream",
     "text": [
      "Best ARIMA model order: (2, 1, 2) with AIC: 3636.506172120704\n"
     ]
    }
   ],
   "source": [
    "# Define the range for p, d, q\n",
    "p = d = q = range(0, 3)\n",
    "\n",
    "# Generate all different combinations of p, d, q triplets\n",
    "pdq = list(itertools.product(p, d, q))\n",
    "\n",
    "best_aic = float(\"inf\")\n",
    "best_order = None\n",
    "\n",
    "# Iterate through all combinations of p, d, q to find the best model\n",
    "for param in pdq:\n",
    "    try:\n",
    "        model = ARIMA(train['Close'], order=param)\n",
    "        results = model.fit()\n",
    "        if results.aic < best_aic:\n",
    "            best_aic = results.aic\n",
    "            best_order = param\n",
    "    except Exception as e:\n",
    "        continue\n",
    "\n",
    "if best_order:\n",
    "    print(f'Best ARIMA model order: {best_order} with AIC: {best_aic}')\n",
    "\n",
    "    # Fit the best model\n",
    "    best_model = ARIMA(train['Close'], order=best_order)\n",
    "    best_model_fit = best_model.fit()\n",
    "\n",
    "    # Make predictions\n",
    "    predictions = best_model_fit.forecast(steps=len(test))\n",
    "\n",
    "    # Plot the results\n",
    "    '''\n",
    "    plt.figure(figsize=(10, 7))\n",
    "    plt.plot(train.index, train['Close'], label='Training Data')\n",
    "    plt.plot(test.index, test['Close'], label='Actual Prices', color='orange')\n",
    "    plt.plot(test.index, predictions, label='Predicted Prices', color='red')\n",
    "    plt.title('ARIMA Model - Actual vs Predicted Prices')\n",
    "    plt.xlabel('Date')\n",
    "    plt.ylabel('Close Price')\n",
    "    plt.legend()\n",
    "    plt.show()\n",
    "    '''\n",
    "else:\n",
    "    print(\"Could not find a suitable ARIMA model.\")"
   ]
  },
  {
   "cell_type": "markdown",
   "metadata": {},
   "source": [
    "The provided plot is a visual representation of the performance of an ARIMA model in predicting eBay sales prices over time.\n",
    "1. **Training Data (Blue Line)**: This line represents the historical data used to train the ARIMA model spaning from the start to around the 5,000th data point.This data learns the patterns, trends, and seasonality in the sales prices.\n",
    "2. **Actual Prices (Orange Line)**:This line shows the actual sales prices for the period following the training data, which represents the true values that occurred after the model was trained.\n",
    "3. **Predicted Prices (Red Line)**:This line represents the prices predicted by the ARIMA model.The flat red line indicates that the model's.\n",
    "\n",
    "**Notice** that the predicted prices begin at the point where the actual prices start."
   ]
  },
  {
   "cell_type": "code",
   "execution_count": 127,
   "metadata": {},
   "outputs": [
    {
     "name": "stderr",
     "output_type": "stream",
     "text": [
      "14:21:28 - cmdstanpy - INFO - Chain [1] start processing\n",
      "14:21:31 - cmdstanpy - INFO - Chain [1] done processing\n"
     ]
    }
   ],
   "source": [
    "# Reset index to access 'Date'\n",
    "prophet_data = data.reset_index()[['Date', 'Close']].rename(columns={'Date': 'ds', 'Close': 'y'})\n",
    "prophet_data['ds'] = pd.to_datetime(prophet_data['ds']).dt.tz_localize(None)  # Remove timezone information\n",
    "\n",
    "prophet_model = Prophet()\n",
    "prophet_model.fit(prophet_data)\n",
    "\n",
    "# Generate Forecast with Prophet\n",
    "future = prophet_model.make_future_dataframe(periods=len(test))\n",
    "forecast = prophet_model.predict(future)"
   ]
  },
  {
   "cell_type": "code",
   "execution_count": 132,
   "metadata": {
    "scrolled": true
   },
   "outputs": [
    {
     "data": {
      "text/plain": [
       "\"\\nfig = prophet_model.plot(forecast, figsize=(10, 8))\\n\\n# Customize the plot appearance\\n\\nplt.title('Forecasted Values with Prophet', fontsize=16, fontweight='bold')\\nplt.xlabel('Date', fontsize=14)\\nplt.ylabel('Forecasted Value', fontsize=14)\\n\\n# Highlight the forecasted values with a different color\\nplt.gca().fill_between(forecast['ds'], forecast['yhat_lower'], forecast['yhat_upper'], color='orange', alpha=0.3)\\n\\n# Add gridlines for better readability\\nplt.grid(True, linestyle='--', alpha=0.6)\\n\\n# Add a legend to explain the different plot elements\\nplt.legend(['Observed', 'Forecast', 'Confidence Interval'], loc='upper left')\\n\\n# Show the plot\\nplt.tight_layout()\\nplt.show()\\n\""
      ]
     },
     "execution_count": 132,
     "metadata": {},
     "output_type": "execute_result"
    }
   ],
   "source": [
    "# Plot forecast\n",
    "'''\n",
    "fig = prophet_model.plot(forecast, figsize=(10, 8))\n",
    "\n",
    "# Customize the plot appearance\n",
    "\n",
    "plt.title('Forecasted Values with Prophet', fontsize=16, fontweight='bold')\n",
    "plt.xlabel('Date', fontsize=14)\n",
    "plt.ylabel('Forecasted Value', fontsize=14)\n",
    "\n",
    "# Highlight the forecasted values with a different color\n",
    "plt.gca().fill_between(forecast['ds'], forecast['yhat_lower'], forecast['yhat_upper'], color='orange', alpha=0.3)\n",
    "\n",
    "# Add gridlines for better readability\n",
    "plt.grid(True, linestyle='--', alpha=0.6)\n",
    "\n",
    "# Add a legend to explain the different plot elements\n",
    "plt.legend(['Observed', 'Forecast', 'Confidence Interval'], loc='upper left')\n",
    "\n",
    "# Show the plot\n",
    "plt.tight_layout()\n",
    "plt.show()\n",
    "'''"
   ]
  },
  {
   "cell_type": "markdown",
   "metadata": {},
   "source": [
    "the Prophet model seems to capture the general trend and seasonality of the time series data. However, further analysis and potential model refinements are necessary to draw more definitive conclusions about its accuracy and suitability for the specific use case.\n",
    "\n",
    "Components of the Plot\n",
    "\n",
    "Black Dots: These represent the actual observed data points in the time series.\n",
    "\n",
    "Blue Line: This is the Prophet model's prediction or forecast for the time series. It represents the overall trend and seasonal patterns captured by the model.\n",
    "\n",
    "Shaded Area: This area represents the uncertainty or confidence intervals around the forecast. It indicates the range within which the true values are likely to fall.\n",
    "\n",
    "Observations\n",
    "\n",
    "The plot spans from around 2001 to 2025, suggesting a relatively long time series.\n",
    "The black dots exhibit some volatility and seasonality, which the Prophet model seems to capture to a certain extent.\n",
    "The blue line generally follows the trend of the data, with some deviations in areas of high volatility.\n",
    "The shaded area provides a visual representation of the model's uncertainty, which is wider in periods of higher volatility."
   ]
  },
  {
   "cell_type": "code",
   "execution_count": null,
   "metadata": {},
   "outputs": [],
   "source": [
    "# Assuming you have already found the `best_order` and you want to use SARIMA\n",
    "if best_order:\n",
    "    seasonal_order = (2, 1, 2, 12)  # Example seasonal order; adjust based on your data\n",
    "\n",
    "    sarima_model = SARIMAX(train['Close'], order=best_order, seasonal_order=seasonal_order)\n",
    "    sarima_fit = sarima_model.fit(disp=False)\n",
    "\n",
    "    # Make predictions with SARIMA\n",
    "    sarima_predictions = sarima_fit.forecast(steps=len(test))\n",
    "\n",
    "    # Plot the SARIMA predictions against actual data\n",
    "    '''\n",
    "    plt.figure(figsize=(10, 6))\n",
    "    plt.plot(train.index, train['Close'], label='Training Data')\n",
    "    plt.plot(test.index, test['Close'], color='orange', label='Actual Prices')\n",
    "    plt.plot(test.index, sarima_predictions, color='red', label='SARIMA Predicted Prices')\n",
    "    plt.legend()\n",
    "    plt.title('SARIMA Model - Actual vs Predicted Prices')\n",
    "    plt.show()\n",
    "    '''\n",
    "else:\n",
    "    print(\"Could not use SARIMA because no suitable ARIMA order was found.\")"
   ]
  },
  {
   "cell_type": "markdown",
   "metadata": {},
   "source": [
    "Objective: Optimize inventory management by reducing stockouts and overstocks.\n",
    "Explanation: By summing up the forecasted sales, you can estimate the total inventory required for the next period. This helps in planning and ensuring that you have enough stock to meet the expected demand, thus preventing stockouts (running out of stock) or overstocks (excess inventory that ties up capital)."
   ]
  },
  {
   "cell_type": "code",
   "execution_count": null,
   "metadata": {},
   "outputs": [],
   "source": [
    "# Apply Model for Inventory and Marketing Optimization\n",
    "# Inventory Management: Calculate expected stock requirements\n",
    "expected_sales = predictions.sum()\n",
    "print(f'Expected Sales for the next period: {expected_sales}')"
   ]
  },
  {
   "cell_type": "markdown",
   "metadata": {},
   "source": [
    "This part of the code calculates the total expected sales for the next period (based on your forecast). The forecast.sum() operation sums up all the predicted sales values for the upcoming period.\n",
    "\n",
    "Outcome:\n",
    "The calculated expected sales for the next period is 47208.12851310898. If the forecast period is one month, and the expected sales are approximately 47,208 units , you would plan to have at least this amount of stock available to meet customer demand during that year.\n",
    "\n",
    "Inventory Management: The code helps in planning inventory by predicting total sales for the upcoming period, reducing the risks associated with improper stock levels."
   ]
  },
  {
   "cell_type": "markdown",
   "metadata": {},
   "source": [
    "# Evaluation"
   ]
  },
  {
   "cell_type": "markdown",
   "metadata": {},
   "source": [
    "To evaluate the performance of your models (ARIMA, Prophet, SARIMA), you can use several metrics and techniques to compare their accuracy and effectiveness."
   ]
  },
  {
   "cell_type": "markdown",
   "metadata": {},
   "source": [
    "To compare the performance of your ARIMA, Prophet, and SARIMA models, you'll follow these steps:\n",
    "1. Compute Evaluation Metrics for Each Model:  This will give you a quantitative measure of their predictive accuracy.\n",
    "2. Visualize Predictions vs Actuals:  This will help you visually assess how well each model tracks the actual values and identify any systematic errors.\n",
    "3. Assess Model Fit and Forecasting Ability: Evaluate how each model performs over both the training period and the test period, and analyze the confidence intervals or prediction intervals to understand uncertainty."
   ]
  },
  {
   "cell_type": "code",
   "execution_count": null,
   "metadata": {},
   "outputs": [],
   "source": [
    "# Extract the predictions from the forecast DataFrame\n",
    "forecasted_values = forecast[['ds', 'yhat']].set_index('ds')\n",
    "\n",
    "# Align forecasted values with the test dates\n",
    "prophet_predictions = forecasted_values.loc[test.index, 'yhat']"
   ]
  },
  {
   "cell_type": "code",
   "execution_count": null,
   "metadata": {},
   "outputs": [],
   "source": [
    "# Calculate MAE, MSE, and RMSE\n",
    "mae_arima = mean_absolute_error(test['Close'], predictions)\n",
    "mse_arima = mean_squared_error(test['Close'], predictions)\n",
    "rmse_arima = np.sqrt(mse_arima)\n",
    "\n",
    "mae_prophet = mean_absolute_error(test['Close'], prophet_predictions)\n",
    "mse_prophet = mean_squared_error(test['Close'], prophet_predictions)\n",
    "rmse_prophet = np.sqrt(mse_prophet)\n",
    "\n",
    "mae_sarima = mean_absolute_error(test['Close'], sarima_predictions)\n",
    "mse_sarima = mean_squared_error(test['Close'], sarima_predictions)\n",
    "rmse_sarima = np.sqrt(mse_sarima)\n",
    "\n",
    "\n",
    "# Example metrics for ARIMA, Prophet, and SARIMA\n",
    "metrics = {\n",
    "    'ARIMA': {'MAE': mae_arima, 'MSE': mse_arima, 'RMSE': rmse_arima},\n",
    "    'Prophet': {'MAE': mae_prophet, 'MSE': mse_prophet, 'RMSE': rmse_prophet},\n",
    "    'SARIMA': {'MAE': mae_sarima, 'MSE': mse_sarima, 'RMSE': rmse_sarima}\n",
    "}\n",
    "\n",
    "# Print metrics\n",
    "for model, metric in metrics.items():\n",
    "    print(f'{model} Model Metrics:')\n",
    "    print(f\"  MAE: {metric['MAE']:.4f}\")\n",
    "    print(f\"  MSE: {metric['MSE']:.4f}\")\n",
    "    print(f\"  RMSE: {metric['RMSE']:.4f}\")\n",
    "    print()\n",
    "    \n",
    "    \n",
    "plt.figure(figsize=(16, 12))\n",
    "\n",
    "# Plot ARIMA results\n",
    "'''\n",
    "plt.subplot(3, 1, 1)\n",
    "plt.plot(train.index, train['Close'], label='Training Data')\n",
    "plt.plot(test.index, test['Close'], color='orange', label='Actual Prices')\n",
    "plt.plot(test.index, predictions, color='red', label='ARIMA Predicted Prices')\n",
    "plt.title('ARIMA Model - Actual vs Predicted Prices')\n",
    "plt.xlabel('Date')\n",
    "plt.ylabel('Close Price')\n",
    "plt.legend()\n",
    "plt.grid(True)\n",
    "\n",
    "# Plot Prophet results\n",
    "plt.subplot(3, 1, 2)\n",
    "plt.plot(prophet_data['ds'], prophet_data['y'], label='Observed', color='black', marker='o', linestyle='None', markersize=3)\n",
    "plt.plot(forecast['ds'], forecast['yhat'], label='Forecast', color='blue')\n",
    "plt.fill_between(forecast['ds'], forecast['yhat_lower'], forecast['yhat_upper'], color='orange', alpha=0.3)\n",
    "plt.title('Prophet Model - Actual vs Forecast')\n",
    "plt.xlabel('Date')\n",
    "plt.ylabel('Close Price')\n",
    "plt.legend()\n",
    "plt.grid(True)\n",
    "\n",
    "# Plot SARIMA results\n",
    "plt.subplot(3, 1, 3)\n",
    "plt.plot(train.index, train['Close'], label='Training Data')\n",
    "plt.plot(test.index, test['Close'], color='orange', label='Actual Prices')\n",
    "plt.plot(test.index, sarima_predictions, color='red', label='SARIMA Predicted Prices')\n",
    "plt.title('SARIMA Model - Actual vs Predicted Prices')\n",
    "plt.xlabel('Date')\n",
    "plt.ylabel('Close Price')\n",
    "plt.legend()\n",
    "plt.grid(True)\n",
    "\n",
    "plt.tight_layout()\n",
    "plt.show()\n",
    "'''"
   ]
  },
  {
   "cell_type": "markdown",
   "metadata": {},
   "source": [
    "The Prophet model performs best based on the provided metrics:\n",
    "\n",
    "It has the lowest MAE, indicating smaller average errors.\n",
    "It has the lowest MSE and RMSE, showing better overall accuracy and less impact from large errors.\n",
    "In summary, the Prophet model is the most accurate among the three models for this dataset."
   ]
  },
  {
   "cell_type": "markdown",
   "metadata": {},
   "source": [
    "### **Making Predictions for December 2024** using prophet model."
   ]
  },
  {
   "cell_type": "code",
   "execution_count": null,
   "metadata": {
    "scrolled": true
   },
   "outputs": [],
   "source": [
    "# Prepare your data\n",
    "prophet_data = data.reset_index()[['Date', 'Close']].rename(columns={'Date': 'ds', 'Close': 'y'})\n",
    "prophet_data['ds'] = pd.to_datetime(prophet_data['ds']).dt.tz_localize(None)\n",
    "\n",
    "# Initialize and fit the Prophet model\n",
    "prophet_model = Prophet()\n",
    "prophet_model.fit(prophet_data)"
   ]
  },
  {
   "cell_type": "code",
   "execution_count": null,
   "metadata": {},
   "outputs": [],
   "source": [
    "# Define future dates\n",
    "target_date = pd.to_datetime('2024-12-12')\n",
    "tomorrow_date = pd.to_datetime('today') + pd.Timedelta(days=1)\n",
    "\n",
    "# Calculate periods needed to include target date and tomorrow's date\n",
    "future_periods = (target_date - prophet_data['ds'].max()).days + 1\n",
    "future_periods_tomorrow = (tomorrow_date - prophet_data['ds'].max()).days + 1\n",
    "\n",
    "# Create a future dataframe that includes both dates\n",
    "future = prophet_model.make_future_dataframe(periods=future_periods)\n",
    "\n",
    "# Print the date range of the forecast to ensure target dates are included\n",
    "print(\"Forecast date range:\")\n",
    "print(future['ds'].min(), \"to\", future['ds'].max())"
   ]
  },
  {
   "cell_type": "markdown",
   "metadata": {},
   "source": [
    "**Columns in the Prediction Output**\n",
    "\n",
    "When you use the Prophet model or similar time series forecasting models, the output DataFrame often contains:\n",
    "- ds: The date of the forecasted data.\n",
    "-  yhat: The forecasted value (the predicted value).\n",
    "- yhat_lower: indicating the lower range within which the actual value is likely to fall.\n",
    "- yhat_upper: indicating the upper range within which the actual value is likely to fall."
   ]
  },
  {
   "cell_type": "code",
   "execution_count": null,
   "metadata": {},
   "outputs": [],
   "source": [
    "# Assuming 'forecast' is the DataFrame returned by the Prophet model\n",
    "# to view specific parts of the forecast:\n",
    "# Show forecasted values and their corresponding dates\n",
    "predictions = forecast[['ds', 'yhat', 'yhat_lower', 'yhat_upper']]\n",
    "predictions.tail(10)"
   ]
  },
  {
   "cell_type": "code",
   "execution_count": null,
   "metadata": {},
   "outputs": [],
   "source": [
    "# Desired date\n",
    "target_date = pd.to_datetime('2024-12-12 04:00:00')\n",
    "\n",
    "# Select the row for the target date\n",
    "selected_row = predictions[predictions['ds'] == target_date]\n",
    "\n",
    "print(selected_row)"
   ]
  },
  {
   "cell_type": "markdown",
   "metadata": {},
   "source": [
    "From the output above we can say that the predicted  closing price for 12th of December 2024 in approximately 52.29 with an upper bound of 45.88 and a lower bound of 58.49. We have successfully come up with a model that predicts future closing prices."
   ]
  },
  {
   "cell_type": "markdown",
   "metadata": {},
   "source": [
    "# Deployment"
   ]
  },
  {
   "cell_type": "code",
   "execution_count": null,
   "metadata": {},
   "outputs": [],
   "source": [
    "import joblib\n",
    "\n",
    "joblib.dump(prophet_model,'prophet.pkl')"
   ]
  },
  {
   "cell_type": "code",
   "execution_count": null,
   "metadata": {},
   "outputs": [],
   "source": [
    "# !pip install streamlit"
   ]
  },
  {
   "cell_type": "markdown",
   "metadata": {},
   "source": [
    "# Conclusion and Recommendation"
   ]
  },
  {
   "cell_type": "markdown",
   "metadata": {},
   "source": [
    "### Conclusion\n",
    "This analysis utilized three different time series forecasting models—ARIMA, Prophet, and SARIMA—to predict future closing prices. Each model was evaluated based on performance metrics such as MAE, MSE, and RMSE. The models provided insights into the trends and seasonality of the data, with the Prophet model showing the best performance, particularly in terms of MAE and RMSE, indicating more accurate predictions.\n",
    "\n",
    "The ARIMA model, although effective in capturing linear trends, was less capable of handling the data's seasonality and irregular patterns. The SARIMA model, which incorporates seasonality, performed better than ARIMA but still fell short compared to Prophet. The Prophet model captured both trends and seasonality more effectively, making it the most suitable for the given dataset.\n",
    "\n",
    "### Recommendations\n",
    "#### Model Selection:\n",
    "\n",
    "- Based on the evaluation metrics, the Prophet model should be preferred for forecasting future sales or closing prices. It consistently outperformed ARIMA and SARIMA models, especially in handling seasonality and trends.\n",
    "\n",
    "#### Model Refinement:\n",
    "\n",
    "- While the Prophet model performed well, further refinements could be made by adjusting its hyperparameters or incorporating additional covariates (e.g., external factors influencing sales) to improve accuracy.\n",
    "\n",
    "#### Regular Model Updates:\n",
    "\n",
    "- Periodically retrain the model with new data to ensure that predictions remain accurate and relevant as market conditions change. This is particularly important in volatile markets where trends can shift rapidly.\n",
    "\n",
    "#### Inventory Management:\n",
    "\n",
    "- Utilize the Prophet model's forecasts to optimize inventory levels, reducing the risk of stockouts or excess inventory. This will help in managing working capital more efficiently.\n",
    "\n",
    "#### Continuous Evaluation:\n",
    "\n",
    "- Continuously monitor the performance of the deployed model using updated data and evaluation metrics. Implementing an automated system for model evaluation can help detect any drift in model accuracy over time.\n",
    "\n",
    "#### Deployment and Integration:\n",
    "\n",
    "- Integrate the chosen model into the company’s decision-making process, particularly in areas such as inventory management, marketing, and financial forecasting. Ensure that the output of the model is accessible to relevant stakeholders through a user-friendly dashboard or reporting system.\n",
    "> By following these recommendations, the organization can leverage the forecasting models to make data-driven decisions, optimize operations, and improve overall business performance."
   ]
  },
  {
   "cell_type": "markdown",
   "metadata": {},
   "source": [
    "**Next Steps**\n",
    "1. Model Refinement: Consider refining the models based on further analysis or more recent data.\n",
    "2. Additional Features: Explore adding more features or external variables that might improve the model's performance.\n"
   ]
  }
 ],
 "metadata": {
  "kernelspec": {
   "display_name": "Python 3",
   "language": "python",
   "name": "python3"
  },
  "language_info": {
   "codemirror_mode": {
    "name": "ipython",
    "version": 3
   },
   "file_extension": ".py",
   "mimetype": "text/x-python",
   "name": "python",
   "nbconvert_exporter": "python",
   "pygments_lexer": "ipython3",
   "version": "3.8.5"
  }
 },
 "nbformat": 4,
 "nbformat_minor": 5
}
