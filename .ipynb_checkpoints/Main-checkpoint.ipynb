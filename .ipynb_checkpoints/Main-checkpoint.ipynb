{
 "cells": [
  {
   "attachments": {},
   "cell_type": "markdown",
   "id": "ce3bda38",
   "metadata": {},
   "source": [
    "# Optimizing eBay Sales with Predictive Analytics: \n",
    "###  Analysing Trends and Forecasting Future Performance!\n",
    "\n",
    "![image.png]()"
   ]
  },
  {
   "attachments": {},
   "cell_type": "markdown",
   "id": "afa852c2",
   "metadata": {},
   "source": [
    "# Business Understanding\n",
    "\n",
    "### Overview\n",
    "\n",
    "eBay is an eCommerce platform that operates as an online marketplace where individuals and businesses can buy and sell a wide variety of products, including electronics, fashion, collectibles, home goods, and more.\n",
    "\n",
    "**Stakeholders**\n",
    "The primary stakeholders in this project include:\n",
    "- Executive Leadership (eBay C-Suite): They require accurate sales forecasts to make informed decisions about resource allocation and market positioning.\n",
    "- Inventory Management Team: They need accurate predictions to avoid stockouts or overstocks, which can lead to lost sales or excess inventory costs.\n",
    "- Marketing Team:  They need to understand sales trends to time campaigns effectively and allocate budget to the most promising opportunities.\n",
    "- Finance Department: Accurate sales forecasts are critical for their planning processes, ensuring that revenue projections align with actual business performance.\n",
    "- Investors: They rely on accurate sales predictions to gauge the company's future performance, which influences their investment decisions and perceptions of eBay's market value.\n",
    "\n",
    "### Problem Statement\n",
    "In the highly competitive eCommerce landscape, accurately predicting sales is crucial for optimizing inventory management, marketing strategies, and overall business performance. eBay, as a major online marketplace, experiences significant fluctuations in sales due to various factors including seasonal trends, promotional activities, market demand, and external economic conditions.\n",
    "> **The challenge** fluctuations in sales due to various factors including seasonal trends, promotional activities, market demand, and external economic conditions. This leads to poor decision-making, Inefficient resource allocation, and poor financial planning.\n",
    "\n",
    "### Objectives \n",
    "**Main objective**: To create a model that predicts eBay sales accurately. This will help with better inventory management, marketing, and financial planning by using past sales data and other factors to make informed business decisions.\n",
    "\n",
    "**Specific Objectives**: \n",
    "- Develop a predictive model capable of forecasting eBay sales with a high degree of accuracy on a weekly or monthly basis.\n",
    "- Demonstrate the practical application of the predictive model in optimizing inventory management by reducing stockouts and overstocks. \n",
    "- Identify opportunities for targeted marketing campaigns based on predicted sales trends.\n",
    "\n",
    "### Success Metric\n",
    "\n",
    "Evaluate the performance of the predictive model using appropriate metrics such as Mean Absolute Error (MAE), Mean Squared Error (MSE), Root Mean Squared Error (RMSE), and Mean Absolute Percentage Error (MAPE)\n",
    "\n",
    "### Conclusion\n",
    "\n",
    "By developing and implementing a robust predictive model, eBay can significantly enhance its ability to forecast sales, optimize inventory management, and make data-driven marketing decisions."
   ]
  },
  {
   "attachments": {},
   "cell_type": "markdown",
   "id": "adacd20d",
   "metadata": {},
   "source": [
    "# Data Understanding\n",
    "\n",
    "**Data Collection**\n",
    "Source: Yahoo Finance via yfinance API.\n",
    "\n",
    "**Data Components**\n",
    "\n",
    "**Historical Stock Prices:** Includes Open, High, Low, Close prices, and Volume of trades.These key features provide a snapshot of a stock's performance on any given trading day:\n",
    "- Open: It is the first price at which a transaction is made in that stock during the day.\n",
    "- High: The highest price at which the stock traded during the day. \n",
    "- Low: The lowest price at which the stock traded during the day. \n",
    "- Close: The final price at which the stock traded when the market closed. \n",
    "- Volume: The total number of shares traded during the day. \n",
    "\n",
    "**Additional Features:** Adjusted Close prices for accounting for corporate actions like stock splits and dividends.\n",
    "The Adjusted Close price adjusts the closing price to reflect the impact of corporate actions like dividends, stock splits, and new stock issuance. This feature is essential for long-term analysis because it provides a more accurate picture of a stock’s value over time.\n",
    "- Dividends: When a company pays out dividends to its shareholders, the stock price typically drops by the dividend amount. The Adjusted Close accounts for this, ensuring that historical price data remains consistent and comparable.\n",
    "- Stock Splits: In a stock split, a company increases the number of its shares without changing the market value of the company. For instance, in a 2-for-1 split, the stock price is halved, but the number of shares doubles. The Adjusted Close adjusts for this, so the price before and after the split can be compared directly."
   ]
  },
  {
   "cell_type": "code",
   "execution_count": 2,
   "id": "355eb9e3-2e07-491a-ab94-e77a2f161314",
   "metadata": {},
   "outputs": [
    {
     "name": "stdout",
     "output_type": "stream",
     "text": [
      "Requirement already satisfied: yfinance in c:\\users\\admin\\anaconda5\\lib\\site-packages (0.2.40)\n",
      "Requirement already satisfied: pandas>=1.3.0 in c:\\users\\admin\\anaconda5\\lib\\site-packages (from yfinance) (2.2.2)\n",
      "Requirement already satisfied: numpy>=1.16.5 in c:\\users\\admin\\anaconda5\\lib\\site-packages (from yfinance) (2.0.1)\n",
      "Requirement already satisfied: requests>=2.31 in c:\\users\\admin\\anaconda5\\lib\\site-packages (from yfinance) (2.31.0)\n",
      "Requirement already satisfied: multitasking>=0.0.7 in c:\\users\\admin\\anaconda5\\lib\\site-packages (from yfinance) (0.0.11)\n",
      "Requirement already satisfied: lxml>=4.9.1 in c:\\users\\admin\\anaconda5\\lib\\site-packages (from yfinance) (4.9.3)\n",
      "Requirement already satisfied: platformdirs>=2.0.0 in c:\\users\\admin\\anaconda5\\lib\\site-packages (from yfinance) (3.10.0)\n",
      "Requirement already satisfied: pytz>=2022.5 in c:\\users\\admin\\anaconda5\\lib\\site-packages (from yfinance) (2024.1)\n",
      "Requirement already satisfied: frozendict>=2.3.4 in c:\\users\\admin\\anaconda5\\lib\\site-packages (from yfinance) (2.4.4)\n",
      "Requirement already satisfied: peewee>=3.16.2 in c:\\users\\admin\\anaconda5\\lib\\site-packages (from yfinance) (3.17.6)\n",
      "Requirement already satisfied: beautifulsoup4>=4.11.1 in c:\\users\\admin\\anaconda5\\lib\\site-packages (from yfinance) (4.12.2)\n",
      "Requirement already satisfied: html5lib>=1.1 in c:\\users\\admin\\anaconda5\\lib\\site-packages (from yfinance) (1.1)\n",
      "Requirement already satisfied: soupsieve>1.2 in c:\\users\\admin\\anaconda5\\lib\\site-packages (from beautifulsoup4>=4.11.1->yfinance) (2.5)\n",
      "Requirement already satisfied: six>=1.9 in c:\\users\\admin\\anaconda5\\lib\\site-packages (from html5lib>=1.1->yfinance) (1.16.0)\n",
      "Requirement already satisfied: webencodings in c:\\users\\admin\\anaconda5\\lib\\site-packages (from html5lib>=1.1->yfinance) (0.5.1)\n",
      "Requirement already satisfied: python-dateutil>=2.8.2 in c:\\users\\admin\\anaconda5\\lib\\site-packages (from pandas>=1.3.0->yfinance) (2.9.0.post0)\n",
      "Requirement already satisfied: tzdata>=2022.7 in c:\\users\\admin\\anaconda5\\lib\\site-packages (from pandas>=1.3.0->yfinance) (2024.1)\n",
      "Requirement already satisfied: charset-normalizer<4,>=2 in c:\\users\\admin\\anaconda5\\lib\\site-packages (from requests>=2.31->yfinance) (2.0.4)\n",
      "Requirement already satisfied: idna<4,>=2.5 in c:\\users\\admin\\anaconda5\\lib\\site-packages (from requests>=2.31->yfinance) (3.4)\n",
      "Requirement already satisfied: urllib3<3,>=1.21.1 in c:\\users\\admin\\anaconda5\\lib\\site-packages (from requests>=2.31->yfinance) (2.0.7)\n",
      "Requirement already satisfied: certifi>=2017.4.17 in c:\\users\\admin\\anaconda5\\lib\\site-packages (from requests>=2.31->yfinance) (2024.7.4)\n"
     ]
    }
   ],
   "source": [
    "!pip install yfinance"
   ]
  },
  {
   "cell_type": "code",
   "execution_count": 3,
   "id": "8b6da5e8",
   "metadata": {
    "scrolled": true
   },
   "outputs": [
    {
     "data": {
      "text/html": [
       "<div>\n",
       "<style scoped>\n",
       "    .dataframe tbody tr th:only-of-type {\n",
       "        vertical-align: middle;\n",
       "    }\n",
       "\n",
       "    .dataframe tbody tr th {\n",
       "        vertical-align: top;\n",
       "    }\n",
       "\n",
       "    .dataframe thead th {\n",
       "        text-align: right;\n",
       "    }\n",
       "</style>\n",
       "<table border=\"1\" class=\"dataframe\">\n",
       "  <thead>\n",
       "    <tr style=\"text-align: right;\">\n",
       "      <th></th>\n",
       "      <th>Open</th>\n",
       "      <th>High</th>\n",
       "      <th>Low</th>\n",
       "      <th>Close</th>\n",
       "      <th>Volume</th>\n",
       "      <th>Dividends</th>\n",
       "      <th>Stock Splits</th>\n",
       "    </tr>\n",
       "    <tr>\n",
       "      <th>Date</th>\n",
       "      <th></th>\n",
       "      <th></th>\n",
       "      <th></th>\n",
       "      <th></th>\n",
       "      <th></th>\n",
       "      <th></th>\n",
       "      <th></th>\n",
       "    </tr>\n",
       "  </thead>\n",
       "  <tbody>\n",
       "    <tr>\n",
       "      <th>1998-09-24 00:00:00-04:00</th>\n",
       "      <td>0.855242</td>\n",
       "      <td>0.867232</td>\n",
       "      <td>0.707373</td>\n",
       "      <td>0.757330</td>\n",
       "      <td>518656090</td>\n",
       "      <td>0.0</td>\n",
       "      <td>0.0</td>\n",
       "    </tr>\n",
       "    <tr>\n",
       "      <th>1998-09-25 00:00:00-04:00</th>\n",
       "      <td>0.727356</td>\n",
       "      <td>0.737347</td>\n",
       "      <td>0.657418</td>\n",
       "      <td>0.717364</td>\n",
       "      <td>121255834</td>\n",
       "      <td>0.0</td>\n",
       "      <td>0.0</td>\n",
       "    </tr>\n",
       "    <tr>\n",
       "      <th>1998-09-28 00:00:00-04:00</th>\n",
       "      <td>0.759328</td>\n",
       "      <td>0.813279</td>\n",
       "      <td>0.735349</td>\n",
       "      <td>0.771317</td>\n",
       "      <td>89772883</td>\n",
       "      <td>0.0</td>\n",
       "      <td>0.0</td>\n",
       "    </tr>\n",
       "    <tr>\n",
       "      <th>1998-09-29 00:00:00-04:00</th>\n",
       "      <td>0.789300</td>\n",
       "      <td>0.803288</td>\n",
       "      <td>0.763324</td>\n",
       "      <td>0.781308</td>\n",
       "      <td>39289536</td>\n",
       "      <td>0.0</td>\n",
       "      <td>0.0</td>\n",
       "    </tr>\n",
       "    <tr>\n",
       "      <th>1998-09-30 00:00:00-04:00</th>\n",
       "      <td>0.754331</td>\n",
       "      <td>0.767320</td>\n",
       "      <td>0.691388</td>\n",
       "      <td>0.720361</td>\n",
       "      <td>44113766</td>\n",
       "      <td>0.0</td>\n",
       "      <td>0.0</td>\n",
       "    </tr>\n",
       "  </tbody>\n",
       "</table>\n",
       "</div>"
      ],
      "text/plain": [
       "                               Open      High       Low     Close     Volume  \\\n",
       "Date                                                                           \n",
       "1998-09-24 00:00:00-04:00  0.855242  0.867232  0.707373  0.757330  518656090   \n",
       "1998-09-25 00:00:00-04:00  0.727356  0.737347  0.657418  0.717364  121255834   \n",
       "1998-09-28 00:00:00-04:00  0.759328  0.813279  0.735349  0.771317   89772883   \n",
       "1998-09-29 00:00:00-04:00  0.789300  0.803288  0.763324  0.781308   39289536   \n",
       "1998-09-30 00:00:00-04:00  0.754331  0.767320  0.691388  0.720361   44113766   \n",
       "\n",
       "                           Dividends  Stock Splits  \n",
       "Date                                                \n",
       "1998-09-24 00:00:00-04:00        0.0           0.0  \n",
       "1998-09-25 00:00:00-04:00        0.0           0.0  \n",
       "1998-09-28 00:00:00-04:00        0.0           0.0  \n",
       "1998-09-29 00:00:00-04:00        0.0           0.0  \n",
       "1998-09-30 00:00:00-04:00        0.0           0.0  "
      ]
     },
     "execution_count": 3,
     "metadata": {},
     "output_type": "execute_result"
    }
   ],
   "source": [
    "# Import libraries\n",
    "import yfinance as yf\n",
    "\n",
    "# Define the ticker symbol for eBay\n",
    "ticker_symbol = 'EBAY'\n",
    "\n",
    "# Fetch historical market data for eBay\n",
    "ebay_data = yf.Ticker(ticker_symbol)\n",
    "\n",
    "# Get historical data (you can specify the period and interval)\n",
    "historical_data = ebay_data.history(period='max', interval='1d')\n",
    "\n",
    "# Save the historical data to a CSV file\n",
    "historical_data.to_csv('ebay_historical_data.csv')\n",
    "\n",
    "#print the first few rows to confirm\n",
    "historical_data.head()"
   ]
  },
  {
   "cell_type": "markdown",
   "id": "84dcdbc3",
   "metadata": {},
   "source": [
    "# Data Preparation"
   ]
  },
  {
   "cell_type": "markdown",
   "id": "1bede2ff",
   "metadata": {},
   "source": [
    "# Modelling"
   ]
  },
  {
   "cell_type": "markdown",
   "id": "ae57c137",
   "metadata": {},
   "source": [
    "# Evaluation"
   ]
  },
  {
   "cell_type": "markdown",
   "id": "54cb2607",
   "metadata": {},
   "source": [
    "# Conclusion and Recommendation"
   ]
  },
  {
   "cell_type": "code",
   "execution_count": null,
   "id": "795f3c6c",
   "metadata": {},
   "outputs": [],
   "source": []
  },
  {
   "cell_type": "code",
   "execution_count": null,
   "id": "e5d0434a-266d-463e-bcc9-d3bb558423fb",
   "metadata": {},
   "outputs": [],
   "source": []
  },
  {
   "cell_type": "code",
   "execution_count": null,
   "id": "86f4c673-d629-4701-acfb-1b4b6aa26d03",
   "metadata": {},
   "outputs": [],
   "source": []
  },
  {
   "cell_type": "code",
   "execution_count": null,
   "id": "e9f7502f-5855-4ac5-bf85-c712d692ec0a",
   "metadata": {},
   "outputs": [],
   "source": []
  },
  {
   "cell_type": "code",
   "execution_count": null,
   "id": "21788276-cb71-40fd-902c-32411c822d73",
   "metadata": {},
   "outputs": [],
   "source": []
  }
 ],
 "metadata": {
  "kernelspec": {
   "display_name": "Python 3 (ipykernel)",
   "language": "python",
   "name": "python3"
  },
  "language_info": {
   "codemirror_mode": {
    "name": "ipython",
    "version": 3
   },
   "file_extension": ".py",
   "mimetype": "text/x-python",
   "name": "python",
   "nbconvert_exporter": "python",
   "pygments_lexer": "ipython3",
   "version": "3.11.7"
  }
 },
 "nbformat": 4,
 "nbformat_minor": 5
}
