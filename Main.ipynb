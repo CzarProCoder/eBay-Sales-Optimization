{
 "cells": [
  {
   "cell_type": "markdown",
   "metadata": {},
   "source": [
    "# Optimizing eBay Sales with Predictive Analytics: \n",
    "###  Analysing Trends and Forecasting Future Performance!\n",
    "\n",
    "![image.png]()"
   ]
  },
  {
   "cell_type": "markdown",
   "metadata": {},
   "source": [
    "# 1. Business Understanding\n",
    "\n",
    "### Overview\n",
    "\n",
    "eBay is an eCommerce platform that operates as an online marketplace where individuals and businesses can buy and sell a wide variety of products, including electronics, fashion, collectibles, home goods, and more.\n",
    "\n",
    "**Stakeholders**\n",
    "The primary stakeholders in this project include:\n",
    "- Executive Leadership (eBay C-Suite): They require accurate sales forecasts to make informed decisions about resource allocation and market positioning.\n",
    "- Inventory Management Team: They need accurate predictions to avoid stockouts or overstocks, which can lead to lost sales or excess inventory costs.\n",
    "- Marketing Team:  They need to understand sales trends to time campaigns effectively and allocate budget to the most promising opportunities.\n",
    "- Finance Department: Accurate sales forecasts are critical for their planning processes, ensuring that revenue projections align with actual business performance.\n",
    "- Investors: They rely on accurate sales predictions to gauge the company's future performance, which influences their investment decisions and perceptions of eBay's market value.\n",
    "\n",
    "### Problem Statement\n",
    "In the highly competitive eCommerce landscape, accurately predicting sales is crucial for optimizing inventory management, marketing strategies, and overall business performance. eBay, as a major online marketplace, experiences significant fluctuations in sales due to various factors including seasonal trends, promotional activities, market demand, and external economic conditions.\n",
    "> **The challenge** fluctuations in sales due to various factors including seasonal trends, promotional activities, market demand, and external economic conditions. This leads to poor decision-making, Inefficient resource allocation, and poor financial planning.\n",
    "\n",
    "### Objectives \n",
    "**Main objective**: To create a model that predicts eBay sales accurately. This will help with better inventory management, marketing, and financial planning by using past sales data and other factors to make informed business decisions.\n",
    "\n",
    "**Specific Objectives**: \n",
    "- Develop a predictive model capable of forecasting eBay sales with a high degree of accuracy on a weekly or monthly basis.\n",
    "- Demonstrate the practical application of the predictive model in optimizing inventory management by reducing stockouts and overstocks. \n",
    "- Identify opportunities for targeted marketing campaigns based on predicted sales trends.\n",
    "\n",
    "### Success Metric\n",
    "\n",
    "Evaluate the performance of the predictive model using appropriate metrics such as Mean Absolute Error (MAE), Mean Squared Error (MSE), Root Mean Squared Error (RMSE), and Mean Absolute Percentage Error (MAPE)\n",
    "\n",
    "### Conclusion\n",
    "\n",
    "By developing and implementing a robust predictive model, eBay can significantly enhance its ability to forecast sales, optimize inventory management, and make data-driven marketing decisions."
   ]
  },
  {
   "cell_type": "markdown",
   "metadata": {},
   "source": [
    "# 2. Data Understanding\n",
    "\n",
    "**Data Collection**\n",
    "Source: Yahoo Finance via yfinance API.\n",
    "\n",
    "**Data Components**\n",
    "\n",
    "**Historical Stock Prices:** Includes Open, High, Low, Close prices, and Volume of trades.These key features provide a snapshot of a stock's performance on any given trading day:\n",
    "- Open: It is the first price at which a transaction is made in that stock during the day.\n",
    "- High: The highest price at which the stock traded during the day. \n",
    "- Low: The lowest price at which the stock traded during the day. \n",
    "- Close: The final price at which the stock traded when the market closed. \n",
    "- Volume: The total number of shares traded during the day. \n",
    "\n",
    "**Additional Features:** Adjusted Close prices for accounting for corporate actions like stock splits and dividends.\n",
    "The Adjusted Close price adjusts the closing price to reflect the impact of corporate actions like dividends, stock splits, and new stock issuance. This feature is essential for long-term analysis because it provides a more accurate picture of a stock’s value over time.\n",
    "- Dividends: When a company pays out dividends to its shareholders, the stock price typically drops by the dividend amount. The Adjusted Close accounts for this, ensuring that historical price data remains consistent and comparable.\n",
    "- Stock Splits: In a stock split, a company increases the number of its shares without changing the market value of the company. For instance, in a 2-for-1 split, the stock price is halved, but the number of shares doubles. The Adjusted Close adjusts for this, so the price before and after the split can be compared directly."
   ]
  },
  {
   "cell_type": "code",
   "execution_count": 1,
   "metadata": {},
   "outputs": [],
   "source": [
    "#Uncomment the line below only if you have not installed yfinance in your current env\n",
    "\n",
    "# !pip install yfinance"
   ]
  },
  {
   "cell_type": "code",
   "execution_count": 2,
   "metadata": {},
   "outputs": [
    {
     "ename": "RuntimeError",
     "evalue": "module compiled against API version 0xe but this version of numpy is 0xd",
     "output_type": "error",
     "traceback": [
      "\u001b[1;31m---------------------------------------------------------------------------\u001b[0m",
      "\u001b[1;31mRuntimeError\u001b[0m                              Traceback (most recent call last)",
      "\u001b[1;31mRuntimeError\u001b[0m: module compiled against API version 0xe but this version of numpy is 0xd"
     ]
    }
   ],
   "source": [
    "# Import necessary libraries\n",
    "import yfinance as yf\n",
    "\n",
    "import pandas as pd\n",
    "import numpy as np\n",
    "\n",
    "import matplotlib.pyplot as plt\n",
    "import seaborn as sns"
   ]
  },
  {
   "cell_type": "code",
   "execution_count": 3,
   "metadata": {
    "scrolled": false
   },
   "outputs": [
    {
     "data": {
      "text/html": [
       "<div>\n",
       "<style scoped>\n",
       "    .dataframe tbody tr th:only-of-type {\n",
       "        vertical-align: middle;\n",
       "    }\n",
       "\n",
       "    .dataframe tbody tr th {\n",
       "        vertical-align: top;\n",
       "    }\n",
       "\n",
       "    .dataframe thead th {\n",
       "        text-align: right;\n",
       "    }\n",
       "</style>\n",
       "<table border=\"1\" class=\"dataframe\">\n",
       "  <thead>\n",
       "    <tr style=\"text-align: right;\">\n",
       "      <th></th>\n",
       "      <th>Open</th>\n",
       "      <th>High</th>\n",
       "      <th>Low</th>\n",
       "      <th>Close</th>\n",
       "      <th>Volume</th>\n",
       "      <th>Dividends</th>\n",
       "      <th>Stock Splits</th>\n",
       "    </tr>\n",
       "    <tr>\n",
       "      <th>Date</th>\n",
       "      <th></th>\n",
       "      <th></th>\n",
       "      <th></th>\n",
       "      <th></th>\n",
       "      <th></th>\n",
       "      <th></th>\n",
       "      <th></th>\n",
       "    </tr>\n",
       "  </thead>\n",
       "  <tbody>\n",
       "    <tr>\n",
       "      <th>1998-09-24 00:00:00-04:00</th>\n",
       "      <td>0.855242</td>\n",
       "      <td>0.867232</td>\n",
       "      <td>0.707373</td>\n",
       "      <td>0.757330</td>\n",
       "      <td>518656090</td>\n",
       "      <td>0.0</td>\n",
       "      <td>0.0</td>\n",
       "    </tr>\n",
       "    <tr>\n",
       "      <th>1998-09-25 00:00:00-04:00</th>\n",
       "      <td>0.727356</td>\n",
       "      <td>0.737347</td>\n",
       "      <td>0.657418</td>\n",
       "      <td>0.717364</td>\n",
       "      <td>121255834</td>\n",
       "      <td>0.0</td>\n",
       "      <td>0.0</td>\n",
       "    </tr>\n",
       "    <tr>\n",
       "      <th>1998-09-28 00:00:00-04:00</th>\n",
       "      <td>0.759328</td>\n",
       "      <td>0.813279</td>\n",
       "      <td>0.735349</td>\n",
       "      <td>0.771317</td>\n",
       "      <td>89772883</td>\n",
       "      <td>0.0</td>\n",
       "      <td>0.0</td>\n",
       "    </tr>\n",
       "    <tr>\n",
       "      <th>1998-09-29 00:00:00-04:00</th>\n",
       "      <td>0.789300</td>\n",
       "      <td>0.803288</td>\n",
       "      <td>0.763324</td>\n",
       "      <td>0.781308</td>\n",
       "      <td>39289536</td>\n",
       "      <td>0.0</td>\n",
       "      <td>0.0</td>\n",
       "    </tr>\n",
       "    <tr>\n",
       "      <th>1998-09-30 00:00:00-04:00</th>\n",
       "      <td>0.754331</td>\n",
       "      <td>0.767320</td>\n",
       "      <td>0.691388</td>\n",
       "      <td>0.720361</td>\n",
       "      <td>44113766</td>\n",
       "      <td>0.0</td>\n",
       "      <td>0.0</td>\n",
       "    </tr>\n",
       "    <tr>\n",
       "      <th>...</th>\n",
       "      <td>...</td>\n",
       "      <td>...</td>\n",
       "      <td>...</td>\n",
       "      <td>...</td>\n",
       "      <td>...</td>\n",
       "      <td>...</td>\n",
       "      <td>...</td>\n",
       "    </tr>\n",
       "    <tr>\n",
       "      <th>2024-08-06 00:00:00-04:00</th>\n",
       "      <td>55.000000</td>\n",
       "      <td>56.650002</td>\n",
       "      <td>54.560001</td>\n",
       "      <td>55.919998</td>\n",
       "      <td>4492200</td>\n",
       "      <td>0.0</td>\n",
       "      <td>0.0</td>\n",
       "    </tr>\n",
       "    <tr>\n",
       "      <th>2024-08-07 00:00:00-04:00</th>\n",
       "      <td>56.279999</td>\n",
       "      <td>56.779999</td>\n",
       "      <td>55.049999</td>\n",
       "      <td>55.110001</td>\n",
       "      <td>4871300</td>\n",
       "      <td>0.0</td>\n",
       "      <td>0.0</td>\n",
       "    </tr>\n",
       "    <tr>\n",
       "      <th>2024-08-08 00:00:00-04:00</th>\n",
       "      <td>55.509998</td>\n",
       "      <td>56.000000</td>\n",
       "      <td>55.150002</td>\n",
       "      <td>55.939999</td>\n",
       "      <td>2640200</td>\n",
       "      <td>0.0</td>\n",
       "      <td>0.0</td>\n",
       "    </tr>\n",
       "    <tr>\n",
       "      <th>2024-08-09 00:00:00-04:00</th>\n",
       "      <td>56.000000</td>\n",
       "      <td>56.740002</td>\n",
       "      <td>55.860001</td>\n",
       "      <td>56.520000</td>\n",
       "      <td>2952200</td>\n",
       "      <td>0.0</td>\n",
       "      <td>0.0</td>\n",
       "    </tr>\n",
       "    <tr>\n",
       "      <th>2024-08-12 00:00:00-04:00</th>\n",
       "      <td>56.750000</td>\n",
       "      <td>57.130001</td>\n",
       "      <td>55.500000</td>\n",
       "      <td>55.750000</td>\n",
       "      <td>2711575</td>\n",
       "      <td>0.0</td>\n",
       "      <td>0.0</td>\n",
       "    </tr>\n",
       "  </tbody>\n",
       "</table>\n",
       "<p>6512 rows × 7 columns</p>\n",
       "</div>"
      ],
      "text/plain": [
       "                                Open       High        Low      Close  \\\n",
       "Date                                                                    \n",
       "1998-09-24 00:00:00-04:00   0.855242   0.867232   0.707373   0.757330   \n",
       "1998-09-25 00:00:00-04:00   0.727356   0.737347   0.657418   0.717364   \n",
       "1998-09-28 00:00:00-04:00   0.759328   0.813279   0.735349   0.771317   \n",
       "1998-09-29 00:00:00-04:00   0.789300   0.803288   0.763324   0.781308   \n",
       "1998-09-30 00:00:00-04:00   0.754331   0.767320   0.691388   0.720361   \n",
       "...                              ...        ...        ...        ...   \n",
       "2024-08-06 00:00:00-04:00  55.000000  56.650002  54.560001  55.919998   \n",
       "2024-08-07 00:00:00-04:00  56.279999  56.779999  55.049999  55.110001   \n",
       "2024-08-08 00:00:00-04:00  55.509998  56.000000  55.150002  55.939999   \n",
       "2024-08-09 00:00:00-04:00  56.000000  56.740002  55.860001  56.520000   \n",
       "2024-08-12 00:00:00-04:00  56.750000  57.130001  55.500000  55.750000   \n",
       "\n",
       "                              Volume  Dividends  Stock Splits  \n",
       "Date                                                           \n",
       "1998-09-24 00:00:00-04:00  518656090        0.0           0.0  \n",
       "1998-09-25 00:00:00-04:00  121255834        0.0           0.0  \n",
       "1998-09-28 00:00:00-04:00   89772883        0.0           0.0  \n",
       "1998-09-29 00:00:00-04:00   39289536        0.0           0.0  \n",
       "1998-09-30 00:00:00-04:00   44113766        0.0           0.0  \n",
       "...                              ...        ...           ...  \n",
       "2024-08-06 00:00:00-04:00    4492200        0.0           0.0  \n",
       "2024-08-07 00:00:00-04:00    4871300        0.0           0.0  \n",
       "2024-08-08 00:00:00-04:00    2640200        0.0           0.0  \n",
       "2024-08-09 00:00:00-04:00    2952200        0.0           0.0  \n",
       "2024-08-12 00:00:00-04:00    2711575        0.0           0.0  \n",
       "\n",
       "[6512 rows x 7 columns]"
      ]
     },
     "execution_count": 3,
     "metadata": {},
     "output_type": "execute_result"
    }
   ],
   "source": [
    "# Define the ticker symbol for eBay\n",
    "ticker_symbol = 'EBAY'\n",
    "\n",
    "# Fetch historical market data for eBay\n",
    "ebay_data = yf.Ticker(ticker_symbol)\n",
    "\n",
    "# Get historical data (you can specify the period and interval)\n",
    "historical_data = ebay_data.history(period='max', interval='1d')\n",
    "\n",
    "# Save the historical data to a CSV file\n",
    "historical_data.to_csv('ebay_historical_data.csv')\n",
    "\n",
    "#print the first few rows to confirm\n",
    "historical_data"
   ]
  },
  {
   "cell_type": "code",
   "execution_count": 4,
   "metadata": {},
   "outputs": [],
   "source": [
    "# Load the data\n",
    "data = pd.read_csv('ebay_historical_data.csv')"
   ]
  },
  {
   "cell_type": "code",
   "execution_count": 5,
   "metadata": {
    "scrolled": true
   },
   "outputs": [
    {
     "data": {
      "text/html": [
       "<div>\n",
       "<style scoped>\n",
       "    .dataframe tbody tr th:only-of-type {\n",
       "        vertical-align: middle;\n",
       "    }\n",
       "\n",
       "    .dataframe tbody tr th {\n",
       "        vertical-align: top;\n",
       "    }\n",
       "\n",
       "    .dataframe thead th {\n",
       "        text-align: right;\n",
       "    }\n",
       "</style>\n",
       "<table border=\"1\" class=\"dataframe\">\n",
       "  <thead>\n",
       "    <tr style=\"text-align: right;\">\n",
       "      <th></th>\n",
       "      <th>Date</th>\n",
       "      <th>Open</th>\n",
       "      <th>High</th>\n",
       "      <th>Low</th>\n",
       "      <th>Close</th>\n",
       "      <th>Volume</th>\n",
       "      <th>Dividends</th>\n",
       "      <th>Stock Splits</th>\n",
       "    </tr>\n",
       "  </thead>\n",
       "  <tbody>\n",
       "    <tr>\n",
       "      <th>0</th>\n",
       "      <td>1998-09-24 00:00:00-04:00</td>\n",
       "      <td>0.855242</td>\n",
       "      <td>0.867232</td>\n",
       "      <td>0.707373</td>\n",
       "      <td>0.757330</td>\n",
       "      <td>518656090</td>\n",
       "      <td>0.0</td>\n",
       "      <td>0.0</td>\n",
       "    </tr>\n",
       "    <tr>\n",
       "      <th>1</th>\n",
       "      <td>1998-09-25 00:00:00-04:00</td>\n",
       "      <td>0.727356</td>\n",
       "      <td>0.737347</td>\n",
       "      <td>0.657418</td>\n",
       "      <td>0.717364</td>\n",
       "      <td>121255834</td>\n",
       "      <td>0.0</td>\n",
       "      <td>0.0</td>\n",
       "    </tr>\n",
       "    <tr>\n",
       "      <th>2</th>\n",
       "      <td>1998-09-28 00:00:00-04:00</td>\n",
       "      <td>0.759328</td>\n",
       "      <td>0.813279</td>\n",
       "      <td>0.735349</td>\n",
       "      <td>0.771317</td>\n",
       "      <td>89772883</td>\n",
       "      <td>0.0</td>\n",
       "      <td>0.0</td>\n",
       "    </tr>\n",
       "    <tr>\n",
       "      <th>3</th>\n",
       "      <td>1998-09-29 00:00:00-04:00</td>\n",
       "      <td>0.789300</td>\n",
       "      <td>0.803288</td>\n",
       "      <td>0.763324</td>\n",
       "      <td>0.781308</td>\n",
       "      <td>39289536</td>\n",
       "      <td>0.0</td>\n",
       "      <td>0.0</td>\n",
       "    </tr>\n",
       "    <tr>\n",
       "      <th>4</th>\n",
       "      <td>1998-09-30 00:00:00-04:00</td>\n",
       "      <td>0.754331</td>\n",
       "      <td>0.767320</td>\n",
       "      <td>0.691388</td>\n",
       "      <td>0.720361</td>\n",
       "      <td>44113766</td>\n",
       "      <td>0.0</td>\n",
       "      <td>0.0</td>\n",
       "    </tr>\n",
       "  </tbody>\n",
       "</table>\n",
       "</div>"
      ],
      "text/plain": [
       "                        Date      Open      High       Low     Close  \\\n",
       "0  1998-09-24 00:00:00-04:00  0.855242  0.867232  0.707373  0.757330   \n",
       "1  1998-09-25 00:00:00-04:00  0.727356  0.737347  0.657418  0.717364   \n",
       "2  1998-09-28 00:00:00-04:00  0.759328  0.813279  0.735349  0.771317   \n",
       "3  1998-09-29 00:00:00-04:00  0.789300  0.803288  0.763324  0.781308   \n",
       "4  1998-09-30 00:00:00-04:00  0.754331  0.767320  0.691388  0.720361   \n",
       "\n",
       "      Volume  Dividends  Stock Splits  \n",
       "0  518656090        0.0           0.0  \n",
       "1  121255834        0.0           0.0  \n",
       "2   89772883        0.0           0.0  \n",
       "3   39289536        0.0           0.0  \n",
       "4   44113766        0.0           0.0  "
      ]
     },
     "execution_count": 5,
     "metadata": {},
     "output_type": "execute_result"
    }
   ],
   "source": [
    "# check dataset structure\n",
    "data.head()"
   ]
  },
  {
   "cell_type": "code",
   "execution_count": 6,
   "metadata": {},
   "outputs": [
    {
     "data": {
      "text/html": [
       "<div>\n",
       "<style scoped>\n",
       "    .dataframe tbody tr th:only-of-type {\n",
       "        vertical-align: middle;\n",
       "    }\n",
       "\n",
       "    .dataframe tbody tr th {\n",
       "        vertical-align: top;\n",
       "    }\n",
       "\n",
       "    .dataframe thead th {\n",
       "        text-align: right;\n",
       "    }\n",
       "</style>\n",
       "<table border=\"1\" class=\"dataframe\">\n",
       "  <thead>\n",
       "    <tr style=\"text-align: right;\">\n",
       "      <th></th>\n",
       "      <th>Date</th>\n",
       "      <th>Open</th>\n",
       "      <th>High</th>\n",
       "      <th>Low</th>\n",
       "      <th>Close</th>\n",
       "      <th>Volume</th>\n",
       "      <th>Dividends</th>\n",
       "      <th>Stock Splits</th>\n",
       "    </tr>\n",
       "  </thead>\n",
       "  <tbody>\n",
       "    <tr>\n",
       "      <th>6507</th>\n",
       "      <td>2024-08-06 00:00:00-04:00</td>\n",
       "      <td>55.000000</td>\n",
       "      <td>56.650002</td>\n",
       "      <td>54.560001</td>\n",
       "      <td>55.919998</td>\n",
       "      <td>4492200</td>\n",
       "      <td>0.0</td>\n",
       "      <td>0.0</td>\n",
       "    </tr>\n",
       "    <tr>\n",
       "      <th>6508</th>\n",
       "      <td>2024-08-07 00:00:00-04:00</td>\n",
       "      <td>56.279999</td>\n",
       "      <td>56.779999</td>\n",
       "      <td>55.049999</td>\n",
       "      <td>55.110001</td>\n",
       "      <td>4871300</td>\n",
       "      <td>0.0</td>\n",
       "      <td>0.0</td>\n",
       "    </tr>\n",
       "    <tr>\n",
       "      <th>6509</th>\n",
       "      <td>2024-08-08 00:00:00-04:00</td>\n",
       "      <td>55.509998</td>\n",
       "      <td>56.000000</td>\n",
       "      <td>55.150002</td>\n",
       "      <td>55.939999</td>\n",
       "      <td>2640200</td>\n",
       "      <td>0.0</td>\n",
       "      <td>0.0</td>\n",
       "    </tr>\n",
       "    <tr>\n",
       "      <th>6510</th>\n",
       "      <td>2024-08-09 00:00:00-04:00</td>\n",
       "      <td>56.000000</td>\n",
       "      <td>56.740002</td>\n",
       "      <td>55.860001</td>\n",
       "      <td>56.520000</td>\n",
       "      <td>2952200</td>\n",
       "      <td>0.0</td>\n",
       "      <td>0.0</td>\n",
       "    </tr>\n",
       "    <tr>\n",
       "      <th>6511</th>\n",
       "      <td>2024-08-12 00:00:00-04:00</td>\n",
       "      <td>56.750000</td>\n",
       "      <td>57.130001</td>\n",
       "      <td>55.500000</td>\n",
       "      <td>55.750000</td>\n",
       "      <td>2711575</td>\n",
       "      <td>0.0</td>\n",
       "      <td>0.0</td>\n",
       "    </tr>\n",
       "  </tbody>\n",
       "</table>\n",
       "</div>"
      ],
      "text/plain": [
       "                           Date       Open       High        Low      Close  \\\n",
       "6507  2024-08-06 00:00:00-04:00  55.000000  56.650002  54.560001  55.919998   \n",
       "6508  2024-08-07 00:00:00-04:00  56.279999  56.779999  55.049999  55.110001   \n",
       "6509  2024-08-08 00:00:00-04:00  55.509998  56.000000  55.150002  55.939999   \n",
       "6510  2024-08-09 00:00:00-04:00  56.000000  56.740002  55.860001  56.520000   \n",
       "6511  2024-08-12 00:00:00-04:00  56.750000  57.130001  55.500000  55.750000   \n",
       "\n",
       "       Volume  Dividends  Stock Splits  \n",
       "6507  4492200        0.0           0.0  \n",
       "6508  4871300        0.0           0.0  \n",
       "6509  2640200        0.0           0.0  \n",
       "6510  2952200        0.0           0.0  \n",
       "6511  2711575        0.0           0.0  "
      ]
     },
     "execution_count": 6,
     "metadata": {},
     "output_type": "execute_result"
    }
   ],
   "source": [
    "data.tail()"
   ]
  },
  {
   "cell_type": "code",
   "execution_count": 7,
   "metadata": {},
   "outputs": [
    {
     "name": "stdout",
     "output_type": "stream",
     "text": [
      "<class 'pandas.core.frame.DataFrame'>\n",
      "RangeIndex: 6512 entries, 0 to 6511\n",
      "Data columns (total 8 columns):\n",
      " #   Column        Non-Null Count  Dtype  \n",
      "---  ------        --------------  -----  \n",
      " 0   Date          6512 non-null   object \n",
      " 1   Open          6512 non-null   float64\n",
      " 2   High          6512 non-null   float64\n",
      " 3   Low           6512 non-null   float64\n",
      " 4   Close         6512 non-null   float64\n",
      " 5   Volume        6512 non-null   int64  \n",
      " 6   Dividends     6512 non-null   float64\n",
      " 7   Stock Splits  6512 non-null   float64\n",
      "dtypes: float64(6), int64(1), object(1)\n",
      "memory usage: 407.1+ KB\n"
     ]
    }
   ],
   "source": [
    "data.info()"
   ]
  },
  {
   "cell_type": "code",
   "execution_count": 8,
   "metadata": {},
   "outputs": [
    {
     "data": {
      "text/plain": [
       "Date             object\n",
       "Open            float64\n",
       "High            float64\n",
       "Low             float64\n",
       "Close           float64\n",
       "Volume            int64\n",
       "Dividends       float64\n",
       "Stock Splits    float64\n",
       "dtype: object"
      ]
     },
     "execution_count": 8,
     "metadata": {},
     "output_type": "execute_result"
    }
   ],
   "source": [
    "data.dtypes"
   ]
  },
  {
   "cell_type": "code",
   "execution_count": 9,
   "metadata": {},
   "outputs": [
    {
     "data": {
      "text/html": [
       "<div>\n",
       "<style scoped>\n",
       "    .dataframe tbody tr th:only-of-type {\n",
       "        vertical-align: middle;\n",
       "    }\n",
       "\n",
       "    .dataframe tbody tr th {\n",
       "        vertical-align: top;\n",
       "    }\n",
       "\n",
       "    .dataframe thead th {\n",
       "        text-align: right;\n",
       "    }\n",
       "</style>\n",
       "<table border=\"1\" class=\"dataframe\">\n",
       "  <thead>\n",
       "    <tr style=\"text-align: right;\">\n",
       "      <th></th>\n",
       "      <th>Open</th>\n",
       "      <th>High</th>\n",
       "      <th>Low</th>\n",
       "      <th>Close</th>\n",
       "      <th>Volume</th>\n",
       "      <th>Dividends</th>\n",
       "      <th>Stock Splits</th>\n",
       "    </tr>\n",
       "  </thead>\n",
       "  <tbody>\n",
       "    <tr>\n",
       "      <th>count</th>\n",
       "      <td>6512.000000</td>\n",
       "      <td>6512.000000</td>\n",
       "      <td>6512.000000</td>\n",
       "      <td>6512.000000</td>\n",
       "      <td>6.512000e+03</td>\n",
       "      <td>6512.000000</td>\n",
       "      <td>6512.000000</td>\n",
       "    </tr>\n",
       "    <tr>\n",
       "      <th>mean</th>\n",
       "      <td>21.542702</td>\n",
       "      <td>21.834136</td>\n",
       "      <td>21.264987</td>\n",
       "      <td>21.549877</td>\n",
       "      <td>3.273906e+07</td>\n",
       "      <td>0.000666</td>\n",
       "      <td>0.001747</td>\n",
       "    </tr>\n",
       "    <tr>\n",
       "      <th>std</th>\n",
       "      <td>15.735588</td>\n",
       "      <td>15.914990</td>\n",
       "      <td>15.572800</td>\n",
       "      <td>15.740856</td>\n",
       "      <td>3.350644e+07</td>\n",
       "      <td>0.011737</td>\n",
       "      <td>0.063948</td>\n",
       "    </tr>\n",
       "    <tr>\n",
       "      <th>min</th>\n",
       "      <td>0.445605</td>\n",
       "      <td>0.467586</td>\n",
       "      <td>0.403642</td>\n",
       "      <td>0.463589</td>\n",
       "      <td>2.129200e+06</td>\n",
       "      <td>0.000000</td>\n",
       "      <td>0.000000</td>\n",
       "    </tr>\n",
       "    <tr>\n",
       "      <th>25%</th>\n",
       "      <td>9.361305</td>\n",
       "      <td>9.507098</td>\n",
       "      <td>9.191836</td>\n",
       "      <td>9.347876</td>\n",
       "      <td>9.878725e+06</td>\n",
       "      <td>0.000000</td>\n",
       "      <td>0.000000</td>\n",
       "    </tr>\n",
       "    <tr>\n",
       "      <th>50%</th>\n",
       "      <td>16.074401</td>\n",
       "      <td>16.311307</td>\n",
       "      <td>15.849002</td>\n",
       "      <td>16.080154</td>\n",
       "      <td>2.586217e+07</td>\n",
       "      <td>0.000000</td>\n",
       "      <td>0.000000</td>\n",
       "    </tr>\n",
       "    <tr>\n",
       "      <th>75%</th>\n",
       "      <td>31.876179</td>\n",
       "      <td>32.196872</td>\n",
       "      <td>31.558777</td>\n",
       "      <td>31.843650</td>\n",
       "      <td>4.350082e+07</td>\n",
       "      <td>0.000000</td>\n",
       "      <td>0.000000</td>\n",
       "    </tr>\n",
       "    <tr>\n",
       "      <th>max</th>\n",
       "      <td>76.652449</td>\n",
       "      <td>76.860714</td>\n",
       "      <td>75.639509</td>\n",
       "      <td>76.292702</td>\n",
       "      <td>5.776987e+08</td>\n",
       "      <td>0.270000</td>\n",
       "      <td>3.000000</td>\n",
       "    </tr>\n",
       "  </tbody>\n",
       "</table>\n",
       "</div>"
      ],
      "text/plain": [
       "              Open         High          Low        Close        Volume  \\\n",
       "count  6512.000000  6512.000000  6512.000000  6512.000000  6.512000e+03   \n",
       "mean     21.542702    21.834136    21.264987    21.549877  3.273906e+07   \n",
       "std      15.735588    15.914990    15.572800    15.740856  3.350644e+07   \n",
       "min       0.445605     0.467586     0.403642     0.463589  2.129200e+06   \n",
       "25%       9.361305     9.507098     9.191836     9.347876  9.878725e+06   \n",
       "50%      16.074401    16.311307    15.849002    16.080154  2.586217e+07   \n",
       "75%      31.876179    32.196872    31.558777    31.843650  4.350082e+07   \n",
       "max      76.652449    76.860714    75.639509    76.292702  5.776987e+08   \n",
       "\n",
       "         Dividends  Stock Splits  \n",
       "count  6512.000000   6512.000000  \n",
       "mean      0.000666      0.001747  \n",
       "std       0.011737      0.063948  \n",
       "min       0.000000      0.000000  \n",
       "25%       0.000000      0.000000  \n",
       "50%       0.000000      0.000000  \n",
       "75%       0.000000      0.000000  \n",
       "max       0.270000      3.000000  "
      ]
     },
     "execution_count": 9,
     "metadata": {},
     "output_type": "execute_result"
    }
   ],
   "source": [
    "# Display basic statistics of the dataset\n",
    "\n",
    "data.describe()"
   ]
  },
  {
   "cell_type": "markdown",
   "metadata": {},
   "source": [
    "__Overview__\n",
    "\n",
    "- The dataset contains columns such as Date, Open, High, Low, Close, Volume, Dividends, and Stock Splits.\n",
    "- \n",
    "The data spans from 1998 and includes daily stock prices and volumes\n",
    "- \n",
    "The Dividends and Stock Splits columns mostly contain zeros, indicating that these events are rare."
   ]
  },
  {
   "cell_type": "markdown",
   "metadata": {},
   "source": [
    "# 3. Data Preparation"
   ]
  },
  {
   "cell_type": "markdown",
   "metadata": {},
   "source": [
    "We'll move on to the Data Preparation step, where we'll clean and prepare the data for modeling.\n",
    "\n",
    "This will include:\n",
    "- handling missing values\n",
    "- feature engineering\n",
    "- and splitting the data into training and testing sets.\n",
    "\n",
    "Let's proceed with that."
   ]
  },
  {
   "cell_type": "code",
   "execution_count": 10,
   "metadata": {},
   "outputs": [],
   "source": [
    "data['Date'] = pd.to_datetime(data['Date'], utc=True)"
   ]
  },
  {
   "cell_type": "code",
   "execution_count": 11,
   "metadata": {},
   "outputs": [],
   "source": [
    "# data = data.set_index('Date')"
   ]
  },
  {
   "cell_type": "markdown",
   "metadata": {},
   "source": [
    "Then, we will set the date as the index so as to allow easier time-based operations as well as manipulations of the data.\n",
    "\n",
    "This step also ensures that feature engineering, and modeling efforts are more streamlined and effective."
   ]
  },
  {
   "cell_type": "code",
   "execution_count": 12,
   "metadata": {
    "scrolled": true
   },
   "outputs": [
    {
     "data": {
      "text/plain": [
       "Date            0\n",
       "Open            0\n",
       "High            0\n",
       "Low             0\n",
       "Close           0\n",
       "Volume          0\n",
       "Dividends       0\n",
       "Stock Splits    0\n",
       "dtype: int64"
      ]
     },
     "execution_count": 12,
     "metadata": {},
     "output_type": "execute_result"
    }
   ],
   "source": [
    "# Check for missing values\n",
    "\n",
    "data.isnull().sum()"
   ]
  },
  {
   "cell_type": "code",
   "execution_count": 13,
   "metadata": {},
   "outputs": [
    {
     "name": "stdout",
     "output_type": "stream",
     "text": [
      "Number of duplicate rows: 0\n"
     ]
    }
   ],
   "source": [
    "# Check for duplicates\n",
    "duplicate_rows = data[data.duplicated()]\n",
    "\n",
    "# Count the number of duplicate rows\n",
    "num_duplicates = len(duplicate_rows)\n",
    "\n",
    "print(f\"Number of duplicate rows: {num_duplicates}\")"
   ]
  },
  {
   "cell_type": "markdown",
   "metadata": {},
   "source": [
    "We are then going to drop columns that are not needed for modeling\n",
    "\n",
    "Assuming 'Dividends' and 'Stock Splits' are not needed due to their low variance"
   ]
  },
  {
   "cell_type": "code",
   "execution_count": 14,
   "metadata": {},
   "outputs": [
    {
     "data": {
      "text/html": [
       "<div>\n",
       "<style scoped>\n",
       "    .dataframe tbody tr th:only-of-type {\n",
       "        vertical-align: middle;\n",
       "    }\n",
       "\n",
       "    .dataframe tbody tr th {\n",
       "        vertical-align: top;\n",
       "    }\n",
       "\n",
       "    .dataframe thead th {\n",
       "        text-align: right;\n",
       "    }\n",
       "</style>\n",
       "<table border=\"1\" class=\"dataframe\">\n",
       "  <thead>\n",
       "    <tr style=\"text-align: right;\">\n",
       "      <th></th>\n",
       "      <th>Date</th>\n",
       "      <th>Open</th>\n",
       "      <th>High</th>\n",
       "      <th>Low</th>\n",
       "      <th>Close</th>\n",
       "      <th>Volume</th>\n",
       "    </tr>\n",
       "  </thead>\n",
       "  <tbody>\n",
       "    <tr>\n",
       "      <th>0</th>\n",
       "      <td>1998-09-24 04:00:00+00:00</td>\n",
       "      <td>0.855242</td>\n",
       "      <td>0.867232</td>\n",
       "      <td>0.707373</td>\n",
       "      <td>0.757330</td>\n",
       "      <td>518656090</td>\n",
       "    </tr>\n",
       "    <tr>\n",
       "      <th>1</th>\n",
       "      <td>1998-09-25 04:00:00+00:00</td>\n",
       "      <td>0.727356</td>\n",
       "      <td>0.737347</td>\n",
       "      <td>0.657418</td>\n",
       "      <td>0.717364</td>\n",
       "      <td>121255834</td>\n",
       "    </tr>\n",
       "    <tr>\n",
       "      <th>2</th>\n",
       "      <td>1998-09-28 04:00:00+00:00</td>\n",
       "      <td>0.759328</td>\n",
       "      <td>0.813279</td>\n",
       "      <td>0.735349</td>\n",
       "      <td>0.771317</td>\n",
       "      <td>89772883</td>\n",
       "    </tr>\n",
       "    <tr>\n",
       "      <th>3</th>\n",
       "      <td>1998-09-29 04:00:00+00:00</td>\n",
       "      <td>0.789300</td>\n",
       "      <td>0.803288</td>\n",
       "      <td>0.763324</td>\n",
       "      <td>0.781308</td>\n",
       "      <td>39289536</td>\n",
       "    </tr>\n",
       "    <tr>\n",
       "      <th>4</th>\n",
       "      <td>1998-09-30 04:00:00+00:00</td>\n",
       "      <td>0.754331</td>\n",
       "      <td>0.767320</td>\n",
       "      <td>0.691388</td>\n",
       "      <td>0.720361</td>\n",
       "      <td>44113766</td>\n",
       "    </tr>\n",
       "  </tbody>\n",
       "</table>\n",
       "</div>"
      ],
      "text/plain": [
       "                       Date      Open      High       Low     Close     Volume\n",
       "0 1998-09-24 04:00:00+00:00  0.855242  0.867232  0.707373  0.757330  518656090\n",
       "1 1998-09-25 04:00:00+00:00  0.727356  0.737347  0.657418  0.717364  121255834\n",
       "2 1998-09-28 04:00:00+00:00  0.759328  0.813279  0.735349  0.771317   89772883\n",
       "3 1998-09-29 04:00:00+00:00  0.789300  0.803288  0.763324  0.781308   39289536\n",
       "4 1998-09-30 04:00:00+00:00  0.754331  0.767320  0.691388  0.720361   44113766"
      ]
     },
     "execution_count": 14,
     "metadata": {},
     "output_type": "execute_result"
    }
   ],
   "source": [
    "data = data.drop(['Dividends', 'Stock Splits'], axis=1)\n",
    "\n",
    "data.head()"
   ]
  },
  {
   "cell_type": "markdown",
   "metadata": {},
   "source": [
    "## Feature Engineering"
   ]
  },
  {
   "cell_type": "markdown",
   "metadata": {},
   "source": [
    "Let's create a 'Year' and 'Month' column from the 'Date'"
   ]
  },
  {
   "cell_type": "code",
   "execution_count": 15,
   "metadata": {
    "scrolled": true
   },
   "outputs": [
    {
     "data": {
      "text/html": [
       "<div>\n",
       "<style scoped>\n",
       "    .dataframe tbody tr th:only-of-type {\n",
       "        vertical-align: middle;\n",
       "    }\n",
       "\n",
       "    .dataframe tbody tr th {\n",
       "        vertical-align: top;\n",
       "    }\n",
       "\n",
       "    .dataframe thead th {\n",
       "        text-align: right;\n",
       "    }\n",
       "</style>\n",
       "<table border=\"1\" class=\"dataframe\">\n",
       "  <thead>\n",
       "    <tr style=\"text-align: right;\">\n",
       "      <th></th>\n",
       "      <th>Date</th>\n",
       "      <th>Open</th>\n",
       "      <th>High</th>\n",
       "      <th>Low</th>\n",
       "      <th>Close</th>\n",
       "      <th>Volume</th>\n",
       "      <th>Year</th>\n",
       "      <th>Month</th>\n",
       "    </tr>\n",
       "  </thead>\n",
       "  <tbody>\n",
       "    <tr>\n",
       "      <th>0</th>\n",
       "      <td>1998-09-24 04:00:00+00:00</td>\n",
       "      <td>0.855242</td>\n",
       "      <td>0.867232</td>\n",
       "      <td>0.707373</td>\n",
       "      <td>0.757330</td>\n",
       "      <td>518656090</td>\n",
       "      <td>1998</td>\n",
       "      <td>9</td>\n",
       "    </tr>\n",
       "    <tr>\n",
       "      <th>1</th>\n",
       "      <td>1998-09-25 04:00:00+00:00</td>\n",
       "      <td>0.727356</td>\n",
       "      <td>0.737347</td>\n",
       "      <td>0.657418</td>\n",
       "      <td>0.717364</td>\n",
       "      <td>121255834</td>\n",
       "      <td>1998</td>\n",
       "      <td>9</td>\n",
       "    </tr>\n",
       "    <tr>\n",
       "      <th>2</th>\n",
       "      <td>1998-09-28 04:00:00+00:00</td>\n",
       "      <td>0.759328</td>\n",
       "      <td>0.813279</td>\n",
       "      <td>0.735349</td>\n",
       "      <td>0.771317</td>\n",
       "      <td>89772883</td>\n",
       "      <td>1998</td>\n",
       "      <td>9</td>\n",
       "    </tr>\n",
       "    <tr>\n",
       "      <th>3</th>\n",
       "      <td>1998-09-29 04:00:00+00:00</td>\n",
       "      <td>0.789300</td>\n",
       "      <td>0.803288</td>\n",
       "      <td>0.763324</td>\n",
       "      <td>0.781308</td>\n",
       "      <td>39289536</td>\n",
       "      <td>1998</td>\n",
       "      <td>9</td>\n",
       "    </tr>\n",
       "    <tr>\n",
       "      <th>4</th>\n",
       "      <td>1998-09-30 04:00:00+00:00</td>\n",
       "      <td>0.754331</td>\n",
       "      <td>0.767320</td>\n",
       "      <td>0.691388</td>\n",
       "      <td>0.720361</td>\n",
       "      <td>44113766</td>\n",
       "      <td>1998</td>\n",
       "      <td>9</td>\n",
       "    </tr>\n",
       "  </tbody>\n",
       "</table>\n",
       "</div>"
      ],
      "text/plain": [
       "                       Date      Open      High       Low     Close  \\\n",
       "0 1998-09-24 04:00:00+00:00  0.855242  0.867232  0.707373  0.757330   \n",
       "1 1998-09-25 04:00:00+00:00  0.727356  0.737347  0.657418  0.717364   \n",
       "2 1998-09-28 04:00:00+00:00  0.759328  0.813279  0.735349  0.771317   \n",
       "3 1998-09-29 04:00:00+00:00  0.789300  0.803288  0.763324  0.781308   \n",
       "4 1998-09-30 04:00:00+00:00  0.754331  0.767320  0.691388  0.720361   \n",
       "\n",
       "      Volume  Year  Month  \n",
       "0  518656090  1998      9  \n",
       "1  121255834  1998      9  \n",
       "2   89772883  1998      9  \n",
       "3   39289536  1998      9  \n",
       "4   44113766  1998      9  "
      ]
     },
     "execution_count": 15,
     "metadata": {},
     "output_type": "execute_result"
    }
   ],
   "source": [
    "data['Year'] = data['Date'].dt.year\n",
    "\n",
    "data['Month'] = data['Date'].dt.month\n",
    "\n",
    "# check dataset structure again\n",
    "\n",
    "data.head()"
   ]
  },
  {
   "cell_type": "markdown",
   "metadata": {},
   "source": [
    "## Visualization"
   ]
  },
  {
   "cell_type": "markdown",
   "metadata": {},
   "source": [
    "Let's create a visualizaton of the historical closing prices over time prices"
   ]
  },
  {
   "cell_type": "code",
   "execution_count": 16,
   "metadata": {},
   "outputs": [
    {
     "data": {
      "image/png": "[encoded data removed]",
      "text/plain": [
       "<Figure size 1008x504 with 1 Axes>"
      ]
     },
     "metadata": {},
     "output_type": "display_data"
    }
   ],
   "source": [
    "# Set the style of seaborn\n",
    "sns.set(style='whitegrid')\n",
    "\n",
    "# Plot the closing prices over time\n",
    "plt.figure(figsize=(14, 7))\n",
    "plt.plot(data['Date'], data['Close'], label='Close Price')\n",
    "plt.title('Historical Closing Prices')\n",
    "plt.xlabel('Date')\n",
    "plt.ylabel('Price')\n",
    "plt.legend()\n",
    "plt.xticks(rotation=45)\n",
    "plt.tight_layout()\n",
    "plt.show()"
   ]
  },
  {
   "cell_type": "markdown",
   "metadata": {
    "jp-MarkdownHeadingCollapsed": true
   },
   "source": [
    "Let's further analyze the data by calculating the moving average to smooth out the price trends.\n",
    "\n",
    "We will calculate a 30-day moving average and plot it alongside the closing prices.\n",
    "\n",
    "The 30-day moving average line provides a more stable view of the market trend, reducing the noise from daily price changes. It can be used to identify potential support and resistance levels, as well as to signal potential trend reversals."
   ]
  },
  {
   "cell_type": "code",
   "execution_count": 17,
   "metadata": {},
   "outputs": [
    {
     "data": {
      "image/png": "[encoded data removed]",
      "text/plain": [
       "<Figure size 1008x504 with 1 Axes>"
      ]
     },
     "metadata": {},
     "output_type": "display_data"
    }
   ],
   "source": [
    "# Calculate the 30-day moving average\n",
    "moving_average_30 = data['Close'].rolling(window=30).mean()\n",
    "\n",
    "# Plot the closing prices and the 30-day moving average\n",
    "plt.figure(figsize=(14, 7))\n",
    "plt.plot(data['Date'], data['Close'], label='Close Price')\n",
    "plt.plot(data['Date'], moving_average_30, label='30-Day Moving Average', color='orange')\n",
    "plt.title('Historical Closing Prices with 30-Day Moving Average')\n",
    "plt.xlabel('Date')\n",
    "plt.ylabel('Price')\n",
    "plt.legend()\n",
    "plt.xticks(rotation=45)\n",
    "plt.tight_layout()\n",
    "plt.show()"
   ]
  },
  {
   "cell_type": "markdown",
   "metadata": {},
   "source": [
    "__Overview__\n",
    "\n",
    "The closing prices exhibit volatility, with noticeable peaks and troughs. This suggests that the market has experienced periods of rapid change, which could be due to various economic factors or events."
   ]
  },
  {
   "cell_type": "markdown",
   "metadata": {},
   "source": [
    "# Modeling"
   ]
  },
  {
   "cell_type": "markdown",
   "metadata": {},
   "source": [
    "For this modelling section, we will explore multiple suitable models and then choose the most appropriate model depending of various evaluation criteria.\n",
    "\n",
    "The step by step process involved will include:\n",
    "\n",
    "1. Split the data\n",
    "2. Train different models\n",
    "3. Evaluate and compare models\n",
    "4. Select the best model\n",
    "5. Fine-tune the chosen model\n",
    "\n",
    "Let's go through each of the steps:\n"
   ]
  },
  {
   "cell_type": "markdown",
   "metadata": {},
   "source": [
    "#### Split the data"
   ]
  },
  {
   "cell_type": "markdown",
   "metadata": {},
   "source": [
    "First, we need to split our prepared dataset into training and testing sets. This is crucial for evaluating our models' performance on unseen data."
   ]
  },
  {
   "cell_type": "code",
   "execution_count": 18,
   "metadata": {},
   "outputs": [],
   "source": [
    "from sklearn.model_selection import train_test_split\n",
    "from sklearn.preprocessing import StandardScaler\n",
    "\n",
    "# Set 'Date' as the index\n",
    "data.set_index('Date', inplace=True)\n",
    "\n",
    "# Define features and target variable\n",
    "X = data[['Open', 'High', 'Low', 'Volume']]\n",
    "y = data['Close']\n",
    "\n",
    "# Split the data into training and testing sets\n",
    "X_train, X_test, y_train, y_test = train_test_split(X, y, test_size=0.2, random_state=42)"
   ]
  },
  {
   "cell_type": "markdown",
   "metadata": {},
   "source": [
    "#### Train different models"
   ]
  },
  {
   "cell_type": "markdown",
   "metadata": {},
   "source": [
    "Data preprocessing is completed. Now, let's proceed with training different models. We'll start with a few common models for time series prediction:\n",
    "\n",
    "- Linear Regression\n",
    "- Random Forest Regressor\n",
    "- XGBoost Regressor\n",
    "\n",
    "Let's train these models and evaluate their performance."
   ]
  },
  {
   "cell_type": "code",
   "execution_count": 19,
   "metadata": {},
   "outputs": [
    {
     "name": "stderr",
     "output_type": "stream",
     "text": [
      "C:\\Users\\ADMIN\\anaconda3\\envs\\learn-env\\lib\\site-packages\\xgboost\\compat.py:93: FutureWarning: pandas.Int64Index is deprecated and will be removed from pandas in a future version. Use pandas.Index with the appropriate dtype instead.\n",
      "  from pandas import MultiIndex, Int64Index\n"
     ]
    }
   ],
   "source": [
    "from sklearn.model_selection import train_test_split, cross_val_score\n",
    "from sklearn.preprocessing import StandardScaler\n",
    "from sklearn.linear_model import LinearRegression\n",
    "from sklearn.ensemble import RandomForestRegressor\n",
    "from xgboost import XGBRegressor\n",
    "from sklearn.svm import SVR\n",
    "from sklearn.metrics import mean_squared_error, r2_score\n",
    "import matplotlib.pyplot as plt\n",
    "from tqdm import tqdm"
   ]
  },
  {
   "cell_type": "code",
   "execution_count": 20,
   "metadata": {},
   "outputs": [],
   "source": [
    "# Scale the features\n",
    "scaler = StandardScaler()\n",
    "X_train_scaled = scaler.fit_transform(X_train)\n",
    "X_test_scaled = scaler.transform(X_test)"
   ]
  },
  {
   "cell_type": "code",
   "execution_count": 21,
   "metadata": {},
   "outputs": [],
   "source": [
    "class StockPriceModel:\n",
    "    def __init__(self, model, model_name):\n",
    "        self.model = model\n",
    "        self.model_name = model_name\n",
    "        self.trained_model = None\n",
    "\n",
    "    def train(self, X_train, y_train):\n",
    "        print(f\"Training {self.model_name}...\")\n",
    "        self.trained_model = self.model.fit(X_train, y_train)\n",
    "        print(f\"{self.model_name} trained successfully.\")\n",
    "\n",
    "    def evaluate(self, X_test, y_test):\n",
    "        predictions = self.trained_model.predict(X_test)\n",
    "        mse = mean_squared_error(y_test, predictions)\n",
    "        r2 = r2_score(y_test, predictions)\n",
    "        print(f\"{self.model_name} Results:\")\n",
    "        print(f\"Mean Squared Error: {mse:.4f}\")\n",
    "        print(f\"R-squared Score: {r2:.4f}\")\n",
    "        return mse, r2\n",
    "\n",
    "    def cross_validate(self, X, y, cv=5):\n",
    "        print(f\"Performing {cv}-fold cross-validation for {self.model_name}...\")\n",
    "        scores = cross_val_score(self.model, X, y, cv=cv, scoring='neg_mean_squared_error')\n",
    "        print(f\"Cross-validation MSE scores: {-scores}\")\n",
    "        print(f\"Average MSE: {-scores.mean():.4f} (+/- {scores.std() * 2:.4f})\")"
   ]
  },
  {
   "cell_type": "code",
   "execution_count": 22,
   "metadata": {},
   "outputs": [],
   "source": [
    "# Initialize models\n",
    "models = [\n",
    "    StockPriceModel(LinearRegression(), 'Linear Regression'),\n",
    "    StockPriceModel(RandomForestRegressor(n_estimators=100, random_state=42), 'Random Forest'),\n",
    "    StockPriceModel(XGBRegressor(n_estimators=100, learning_rate=0.1, random_state=42), 'XGBoost'),\n",
    "    StockPriceModel(SVR(kernel='rbf'), 'Support Vector Regression')\n",
    "]"
   ]
  },
  {
   "cell_type": "code",
   "execution_count": 23,
   "metadata": {},
   "outputs": [
    {
     "name": "stderr",
     "output_type": "stream",
     "text": [
      "\r",
      "Training and evaluating models:   0%|          | 0/4 [00:00<?, ?it/s]"
     ]
    },
    {
     "name": "stdout",
     "output_type": "stream",
     "text": [
      "Training Linear Regression...\n",
      "Linear Regression trained successfully.\n",
      "Linear Regression Results:\n",
      "Mean Squared Error: 0.0394\n",
      "R-squared Score: 0.9998\n",
      "Performing 5-fold cross-validation for Linear Regression...\n",
      "Cross-validation MSE scores: [0.03089864 0.03630687 0.03697146 0.03539833 0.03821306]\n",
      "Average MSE: 0.0356 (+/- 0.0050)\n",
      "Training Random Forest...\n",
      "Random Forest trained successfully.\n",
      "Random Forest Results:\n",
      "Mean Squared Error: 0.0778\n",
      "R-squared Score: 0.9997\n",
      "Performing 5-fold cross-validation for Random Forest...\n"
     ]
    },
    {
     "name": "stderr",
     "output_type": "stream",
     "text": [
      "\r",
      "Training and evaluating models:  50%|█████     | 2/4 [00:06<00:06,  3.21s/it]"
     ]
    },
    {
     "name": "stdout",
     "output_type": "stream",
     "text": [
      "Cross-validation MSE scores: [0.06317083 0.06123116 0.08010561 0.07101377 0.07294044]\n",
      "Average MSE: 0.0697 (+/- 0.0137)\n",
      "Training XGBoost...\n",
      "XGBoost trained successfully.\n",
      "XGBoost Results:\n",
      "Mean Squared Error: 0.0813\n",
      "R-squared Score: 0.9997\n",
      "Performing 5-fold cross-validation for XGBoost...\n"
     ]
    },
    {
     "name": "stderr",
     "output_type": "stream",
     "text": [
      "\r",
      "Training and evaluating models:  75%|███████▌  | 3/4 [00:07<00:02,  2.60s/it]"
     ]
    },
    {
     "name": "stdout",
     "output_type": "stream",
     "text": [
      "Cross-validation MSE scores: [0.07252219 0.06907816 0.08931168 0.07799254 0.07574796]\n",
      "Average MSE: 0.0769 (+/- 0.0138)\n",
      "Training Support Vector Regression...\n",
      "Support Vector Regression trained successfully.\n",
      "Support Vector Regression Results:\n",
      "Mean Squared Error: 1.0097\n",
      "R-squared Score: 0.9960\n",
      "Performing 5-fold cross-validation for Support Vector Regression...\n"
     ]
    },
    {
     "name": "stderr",
     "output_type": "stream",
     "text": [
      "Training and evaluating models: 100%|██████████| 4/4 [00:13<00:00,  3.29s/it]"
     ]
    },
    {
     "name": "stdout",
     "output_type": "stream",
     "text": [
      "Cross-validation MSE scores: [0.71591574 1.98744667 0.91784628 0.59805219 0.58525607]\n",
      "Average MSE: 0.9609 (+/- 1.0539)\n"
     ]
    },
    {
     "name": "stderr",
     "output_type": "stream",
     "text": [
      "\n"
     ]
    }
   ],
   "source": [
    "# Train, evaluate, and cross-validate each model\n",
    "results = []\n",
    "for model in tqdm(models, desc=\"Training and evaluating models\"):\n",
    "    model.train(X_train_scaled, y_train)\n",
    "    mse, r2 = model.evaluate(X_test_scaled, y_test)\n",
    "    model.cross_validate(X_train_scaled, y_train)\n",
    "    results.append((model.model_name, mse, r2))"
   ]
  },
  {
   "cell_type": "markdown",
   "metadata": {},
   "source": [
    "# Evaluation"
   ]
  },
  {
   "cell_type": "code",
   "execution_count": 24,
   "metadata": {
    "scrolled": true
   },
   "outputs": [
    {
     "name": "stdout",
     "output_type": "stream",
     "text": [
      "Model comparison plot saved as 'model_comparison.png'\n"
     ]
    },
    {
     "data": {
      "text/plain": [
       "<Figure size 864x432 with 0 Axes>"
      ]
     },
     "metadata": {},
     "output_type": "display_data"
    },
    {
     "data": {
      "image/png": "[encoded data removed]",
      "text/plain": [
       "<Figure size 864x432 with 2 Axes>"
      ]
     },
     "metadata": {},
     "output_type": "display_data"
    }
   ],
   "source": [
    "# Plot the results\n",
    "plt.figure(figsize=(12, 6))\n",
    "model_names = [result[0] for result in results]\n",
    "mse_scores = [result[1] for result in results]\n",
    "r2_scores = [result[2] for result in results]\n",
    "\n",
    "x = np.arange(len(model_names))\n",
    "width = 0.35\n",
    "\n",
    "fig, ax1 = plt.subplots(figsize=(12, 6))\n",
    "ax2 = ax1.twinx()\n",
    "\n",
    "rects1 = ax1.bar(x - width/2, mse_scores, width, label='MSE', color='b', alpha=0.7)\n",
    "rects2 = ax2.bar(x + width/2, r2_scores, width, label='R-squared', color='r', alpha=0.7)\n",
    "\n",
    "ax1.set_xlabel('Models')\n",
    "ax1.set_ylabel('Mean Squared Error')\n",
    "ax2.set_ylabel('R-squared Score')\n",
    "ax1.set_title('Model Performance Comparison')\n",
    "ax1.set_xticks(x)\n",
    "ax1.set_xticklabels(model_names, rotation=45, ha='right')\n",
    "\n",
    "ax1.legend(loc='upper left')\n",
    "ax2.legend(loc='upper right')\n",
    "\n",
    "fig.tight_layout()\n",
    "plt.savefig('model_comparison.png')\n",
    "print(\"Model comparison plot saved as 'model_comparison.png'\")"
   ]
  },
  {
   "cell_type": "code",
   "execution_count": 25,
   "metadata": {},
   "outputs": [
    {
     "name": "stdout",
     "output_type": "stream",
     "text": [
      "Best performing model: Linear Regression\n",
      "MSE: 0.0394\n",
      "R-squared: 0.9998\n"
     ]
    }
   ],
   "source": [
    "# Find the best model\n",
    "best_model = min(results, key=lambda x: x[1])\n",
    "print(f\"\\\n",
    "Best performing model: {best_model[0]}\")\n",
    "print(f\"MSE: {best_model[1]:.4f}\")\n",
    "print(f\"R-squared: {best_model[2]:.4f}\")"
   ]
  },
  {
   "cell_type": "markdown",
   "metadata": {},
   "source": [
    "# Conclusion and Recommendation"
   ]
  },
  {
   "cell_type": "code",
   "execution_count": null,
   "metadata": {},
   "outputs": [],
   "source": []
  }
 ],
 "metadata": {
  "kernelspec": {
   "display_name": "Python 3",
   "language": "python",
   "name": "python3"
  },
  "language_info": {
   "codemirror_mode": {
    "name": "ipython",
    "version": 3
   },
   "file_extension": ".py",
   "mimetype": "text/x-python",
   "name": "python",
   "nbconvert_exporter": "python",
   "pygments_lexer": "ipython3",
   "version": "3.8.5"
  }
 },
 "nbformat": 4,
 "nbformat_minor": 5
}
