{
 "cells": [
  {
   "cell_type": "markdown",
   "id": "ce3bda38",
   "metadata": {},
   "source": [
    "# eBay Sales optimization"
   ]
  },
  {
   "cell_type": "code",
   "execution_count": null,
   "id": "a173250d",
   "metadata": {},
   "outputs": [],
   "source": []
  }
 ],
 "metadata": {
  "kernelspec": {
   "display_name": "Python (learn-env)",
   "language": "python",
   "name": "learn-env"
  },
  "language_info": {
   "codemirror_mode": {
    "name": "ipython",
    "version": 3
   },
   "file_extension": ".py",
   "mimetype": "text/x-python",
   "name": "python",
   "nbconvert_exporter": "python",
   "pygments_lexer": "ipython3",
   "version": "3.11.5"
  }
 },
 "nbformat": 4,
 "nbformat_minor": 5
}
